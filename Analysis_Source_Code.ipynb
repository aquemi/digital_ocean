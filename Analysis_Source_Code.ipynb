{
  "nbformat": 4,
  "nbformat_minor": 0,
  "metadata": {
    "colab": {
      "provenance": [],
      "authorship_tag": "ABX9TyNmOcsCs5AcZxRYBdii61Of",
      "include_colab_link": true
    },
    "kernelspec": {
      "name": "python3",
      "display_name": "Python 3"
    },
    "language_info": {
      "name": "python"
    }
  },
  "cells": [
    {
      "cell_type": "markdown",
      "metadata": {
        "id": "view-in-github",
        "colab_type": "text"
      },
      "source": [
        "<a href=\"https://colab.research.google.com/github/aquemi/digital_ocean/blob/main/Analysis_Source_Code.ipynb\" target=\"_parent\"><img src=\"https://colab.research.google.com/assets/colab-badge.svg\" alt=\"Open In Colab\"/></a>"
      ]
    },
    {
      "cell_type": "markdown",
      "source": [
        "## Minimum Requirements Section\n",
        "\n",
        "\n",
        "Hello! This analysis is based on TWO different sets of files: **Waves** and **Tides** obtained from Digital Ocean. They are open data and are related to the sea around Ireland. As recommended, the period considered for this analysis is one year, 17/09/2021 to 17/09/2022. \n",
        "\n"
      ],
      "metadata": {
        "id": "vJxozCYHxxRE"
      }
    },
    {
      "cell_type": "markdown",
      "source": [
        "### Loading the data: \n",
        "I already uploaded the dataset we will use for this analysis to Github in order to make it easier to reproduce analysis. Now, let's load the data we used for this analysis from Github repository to our Google colab /tmp folder."
      ],
      "metadata": {
        "id": "dMH-xgFQvBwn"
      }
    },
    {
      "cell_type": "markdown",
      "source": [
        "So, let's import libraries and then download the data from github:"
      ],
      "metadata": {
        "id": "QzREwVizW4jm"
      }
    },
    {
      "cell_type": "markdown",
      "source": [
        "First, let import useful libraries:"
      ],
      "metadata": {
        "id": "I3c0oufgsF8f"
      }
    },
    {
      "cell_type": "code",
      "execution_count": 4,
      "metadata": {
        "id": "mS0hTENgzEgo"
      },
      "outputs": [],
      "source": [
        "import zipfile\n",
        "import pandas as pd\n",
        "import datetime\n",
        "import glob\n",
        "import os\n",
        "from dateutil import parser\n",
        "import matplotlib.pyplot as plt\n",
        "import numpy as np\n",
        "from mpl_toolkits.mplot3d import Axes3D\n",
        "from scipy import stats\n",
        "from sklearn.model_selection import train_test_split\n",
        "from sklearn.preprocessing import PolynomialFeatures\n",
        "from sklearn.metrics import mean_squared_error, r2_score\n",
        "from sklearn.metrics import mean_squared_error"
      ]
    },
    {
      "cell_type": "markdown",
      "source": [
        "This next code block downloads the dataset we will need from Github repository, unzips it, and extracts the contents into the /tmp folder here on Google Colab:"
      ],
      "metadata": {
        "id": "Tq7m_fMlOIOT"
      }
    },
    {
      "cell_type": "code",
      "source": [
        "!wget --no-check-certificate \\\n",
        "    \"https://github.com/aquemi/digital_ocean/archive/refs/heads/main.zip\" \\\n",
        "    -O \"/tmp/waves_tides.zip\"\n",
        "\n",
        "zip_ref = zipfile.ZipFile('/tmp/waves_tides.zip', 'r') #Opens the zip file in read mode\n",
        "zip_ref.extractall('/tmp') #Extracts the files into the /tmp folder\n",
        "zip_ref.close()"
      ],
      "metadata": {
        "colab": {
          "base_uri": "https://localhost:8080/"
        },
        "id": "5tt5YiisMA0E",
        "outputId": "5450a1b2-131a-4f53-de1b-94942fcaf283"
      },
      "execution_count": 6,
      "outputs": [
        {
          "output_type": "stream",
          "name": "stdout",
          "text": [
            "--2022-09-21 13:23:19--  https://github.com/aquemi/digital_ocean/archive/refs/heads/main.zip\n",
            "Resolving github.com (github.com)... 140.82.112.3\n",
            "Connecting to github.com (github.com)|140.82.112.3|:443... connected.\n",
            "HTTP request sent, awaiting response... 302 Found\n",
            "Location: https://codeload.github.com/aquemi/digital_ocean/zip/refs/heads/main [following]\n",
            "--2022-09-21 13:23:19--  https://codeload.github.com/aquemi/digital_ocean/zip/refs/heads/main\n",
            "Resolving codeload.github.com (codeload.github.com)... 140.82.112.9\n",
            "Connecting to codeload.github.com (codeload.github.com)|140.82.112.9|:443... connected.\n",
            "HTTP request sent, awaiting response... 200 OK\n",
            "Length: unspecified [application/zip]\n",
            "Saving to: ‘/tmp/waves_tides.zip’\n",
            "\n",
            "/tmp/waves_tides.zi     [          <=>       ]  11.08M  4.66MB/s    in 2.4s    \n",
            "\n",
            "2022-09-21 13:23:22 (4.66 MB/s) - ‘/tmp/waves_tides.zip’ saved [11617599]\n",
            "\n"
          ]
        }
      ]
    },
    {
      "cell_type": "markdown",
      "source": [
        "Great! Now that our zip contents have been extracted into /tmp folder, we need the path of the dataset relative to the Google Colab notebook we are working on. Click on folder icon then file system to reveal all the folders of the virtual system.\n"
      ],
      "metadata": {
        "id": "Edh80njjPnL7"
      }
    },
    {
      "cell_type": "markdown",
      "source": [
        " Please check you /tmp folder and you might have two directories, named tides and waves. Tides has 14 files and waves 6 files, all in .csv format."
      ],
      "metadata": {
        "id": "K8JgiB5_R8lz"
      }
    },
    {
      "cell_type": "code",
      "source": [
        "dir_tide = '/tmp/digital_ocean-main/tides'\n",
        "dir_waves = '/tmp/digital_ocean-main/waves'"
      ],
      "metadata": {
        "id": "K3gn_6cTQ3tD"
      },
      "execution_count": 11,
      "outputs": []
    },
    {
      "cell_type": "code",
      "source": [
        "list_wave = os.listdir(dir_waves) #list all paths in wave directory\n",
        "print('Wave directory has', len(list_wave),'files:', list_wave)\n",
        "list_tide = os.listdir(dir_tide) #list all paths in tide directory\n",
        "print('Tide directory has', len(list_tide),'files:', list_tide)\n"
      ],
      "metadata": {
        "colab": {
          "base_uri": "https://localhost:8080/"
        },
        "id": "dAT3aEKqXhaE",
        "outputId": "9d9b1cee-693e-478b-da8c-96a68f7b61a6"
      },
      "execution_count": 25,
      "outputs": [
        {
          "output_type": "stream",
          "name": "stdout",
          "text": [
            "Wave directory has 6 files: ['Clew_Bay.csv', 'SmartBay_Wave_Buoy.csv', 'AMETS_Berth_A_Wave_Buoy.csv', 'Bantry_Bay.csv', 'Brandon_Bay.csv', 'AMETS_Berth_B_Wave_Buoy.csv']\n",
            "Tide directory has 14 files: ['Dublin Port.csv', 'Castletownbere_Port.csv', 'Howth_Water_Level_1.csv', 'Wexford_Harbour.csv', 'Kinvara_Unreferenced.csv', 'Roonagh_Pier.csv', 'Skerries_Harbour.csv', 'Ballycotton_Harbour.csv', 'Killybegs_Port.csv', 'Union_Hall_Harbor.csv', 'Ballyglass_Harbour.csv', 'Galway_Port.csv', 'Dingle_Harbour.csv', 'Aranmore_Island_Leabgarrow.csv']\n"
          ]
        }
      ]
    },
    {
      "cell_type": "markdown",
      "source": [
        "### Explorational Data Analysis\n",
        "This is an important step to explore and gain insight about our dataset."
      ],
      "metadata": {
        "id": "Hu6Ip2pEKTpm"
      }
    },
    {
      "cell_type": "markdown",
      "source": [
        "Let's load just one sheet from Wave directory to get some information about the data."
      ],
      "metadata": {
        "id": "zAnmOHnBGELq"
      }
    },
    {
      "cell_type": "code",
      "source": [
        "# reads the AMETS Berth A Wave Buoy table.\n",
        "AMETS_A = pd.read_csv('/tmp/digital_ocean-main/waves/AMETS_Berth_A_Wave_Buoy.csv')"
      ],
      "metadata": {
        "id": "MY1WtS3D2DyI"
      },
      "execution_count": 19,
      "outputs": []
    },
    {
      "cell_type": "markdown",
      "source": [
        "Now, let's check the first three rows from this table:"
      ],
      "metadata": {
        "id": "FfM4bRnDA6LL"
      }
    },
    {
      "cell_type": "code",
      "source": [
        "# displays 3 rows of our table.\n",
        "AMETS_A.head(3)"
      ],
      "metadata": {
        "colab": {
          "base_uri": "https://localhost:8080/",
          "height": 277
        },
        "id": "4C8fDA7iMbvC",
        "outputId": "44341091-356f-406c-a8ab-8f48330f8caf"
      },
      "execution_count": 20,
      "outputs": [
        {
          "output_type": "execute_result",
          "data": {
            "text/plain": [
              "      longitude       latitude                  time               station_id  \\\n",
              "0  degrees_east  degrees_north                   UTC                      NaN   \n",
              "1     -10.29737        54.2753  2021-09-17T23:22:00Z  AMETS Berth A Wave Buoy   \n",
              "2     -10.29737        54.2753  2021-09-17T23:52:00Z  AMETS Berth A Wave Buoy   \n",
              "\n",
              "  PeakPeriod PeakDirection UpcrossPeriod SignificantWaveHeight Hmax  \\\n",
              "0          s  degrees_true             s                    cm   cm   \n",
              "1       9.09         265.8         7.143                 244.0  NaN   \n",
              "2      10.53         257.3         7.273                 253.0  NaN   \n",
              "\n",
              "  SeaTemperature MeanCurSpeed  MeanCurDirTo  \n",
              "0       degree_C          m/s  degrees_true  \n",
              "1          16.25          NaN           NaN  \n",
              "2          16.25          NaN           NaN  "
            ],
            "text/html": [
              "\n",
              "  <div id=\"df-6b80658a-40ba-4c52-b894-aed202cc150a\">\n",
              "    <div class=\"colab-df-container\">\n",
              "      <div>\n",
              "<style scoped>\n",
              "    .dataframe tbody tr th:only-of-type {\n",
              "        vertical-align: middle;\n",
              "    }\n",
              "\n",
              "    .dataframe tbody tr th {\n",
              "        vertical-align: top;\n",
              "    }\n",
              "\n",
              "    .dataframe thead th {\n",
              "        text-align: right;\n",
              "    }\n",
              "</style>\n",
              "<table border=\"1\" class=\"dataframe\">\n",
              "  <thead>\n",
              "    <tr style=\"text-align: right;\">\n",
              "      <th></th>\n",
              "      <th>longitude</th>\n",
              "      <th>latitude</th>\n",
              "      <th>time</th>\n",
              "      <th>station_id</th>\n",
              "      <th>PeakPeriod</th>\n",
              "      <th>PeakDirection</th>\n",
              "      <th>UpcrossPeriod</th>\n",
              "      <th>SignificantWaveHeight</th>\n",
              "      <th>Hmax</th>\n",
              "      <th>SeaTemperature</th>\n",
              "      <th>MeanCurSpeed</th>\n",
              "      <th>MeanCurDirTo</th>\n",
              "    </tr>\n",
              "  </thead>\n",
              "  <tbody>\n",
              "    <tr>\n",
              "      <th>0</th>\n",
              "      <td>degrees_east</td>\n",
              "      <td>degrees_north</td>\n",
              "      <td>UTC</td>\n",
              "      <td>NaN</td>\n",
              "      <td>s</td>\n",
              "      <td>degrees_true</td>\n",
              "      <td>s</td>\n",
              "      <td>cm</td>\n",
              "      <td>cm</td>\n",
              "      <td>degree_C</td>\n",
              "      <td>m/s</td>\n",
              "      <td>degrees_true</td>\n",
              "    </tr>\n",
              "    <tr>\n",
              "      <th>1</th>\n",
              "      <td>-10.29737</td>\n",
              "      <td>54.2753</td>\n",
              "      <td>2021-09-17T23:22:00Z</td>\n",
              "      <td>AMETS Berth A Wave Buoy</td>\n",
              "      <td>9.09</td>\n",
              "      <td>265.8</td>\n",
              "      <td>7.143</td>\n",
              "      <td>244.0</td>\n",
              "      <td>NaN</td>\n",
              "      <td>16.25</td>\n",
              "      <td>NaN</td>\n",
              "      <td>NaN</td>\n",
              "    </tr>\n",
              "    <tr>\n",
              "      <th>2</th>\n",
              "      <td>-10.29737</td>\n",
              "      <td>54.2753</td>\n",
              "      <td>2021-09-17T23:52:00Z</td>\n",
              "      <td>AMETS Berth A Wave Buoy</td>\n",
              "      <td>10.53</td>\n",
              "      <td>257.3</td>\n",
              "      <td>7.273</td>\n",
              "      <td>253.0</td>\n",
              "      <td>NaN</td>\n",
              "      <td>16.25</td>\n",
              "      <td>NaN</td>\n",
              "      <td>NaN</td>\n",
              "    </tr>\n",
              "  </tbody>\n",
              "</table>\n",
              "</div>\n",
              "      <button class=\"colab-df-convert\" onclick=\"convertToInteractive('df-6b80658a-40ba-4c52-b894-aed202cc150a')\"\n",
              "              title=\"Convert this dataframe to an interactive table.\"\n",
              "              style=\"display:none;\">\n",
              "        \n",
              "  <svg xmlns=\"http://www.w3.org/2000/svg\" height=\"24px\"viewBox=\"0 0 24 24\"\n",
              "       width=\"24px\">\n",
              "    <path d=\"M0 0h24v24H0V0z\" fill=\"none\"/>\n",
              "    <path d=\"M18.56 5.44l.94 2.06.94-2.06 2.06-.94-2.06-.94-.94-2.06-.94 2.06-2.06.94zm-11 1L8.5 8.5l.94-2.06 2.06-.94-2.06-.94L8.5 2.5l-.94 2.06-2.06.94zm10 10l.94 2.06.94-2.06 2.06-.94-2.06-.94-.94-2.06-.94 2.06-2.06.94z\"/><path d=\"M17.41 7.96l-1.37-1.37c-.4-.4-.92-.59-1.43-.59-.52 0-1.04.2-1.43.59L10.3 9.45l-7.72 7.72c-.78.78-.78 2.05 0 2.83L4 21.41c.39.39.9.59 1.41.59.51 0 1.02-.2 1.41-.59l7.78-7.78 2.81-2.81c.8-.78.8-2.07 0-2.86zM5.41 20L4 18.59l7.72-7.72 1.47 1.35L5.41 20z\"/>\n",
              "  </svg>\n",
              "      </button>\n",
              "      \n",
              "  <style>\n",
              "    .colab-df-container {\n",
              "      display:flex;\n",
              "      flex-wrap:wrap;\n",
              "      gap: 12px;\n",
              "    }\n",
              "\n",
              "    .colab-df-convert {\n",
              "      background-color: #E8F0FE;\n",
              "      border: none;\n",
              "      border-radius: 50%;\n",
              "      cursor: pointer;\n",
              "      display: none;\n",
              "      fill: #1967D2;\n",
              "      height: 32px;\n",
              "      padding: 0 0 0 0;\n",
              "      width: 32px;\n",
              "    }\n",
              "\n",
              "    .colab-df-convert:hover {\n",
              "      background-color: #E2EBFA;\n",
              "      box-shadow: 0px 1px 2px rgba(60, 64, 67, 0.3), 0px 1px 3px 1px rgba(60, 64, 67, 0.15);\n",
              "      fill: #174EA6;\n",
              "    }\n",
              "\n",
              "    [theme=dark] .colab-df-convert {\n",
              "      background-color: #3B4455;\n",
              "      fill: #D2E3FC;\n",
              "    }\n",
              "\n",
              "    [theme=dark] .colab-df-convert:hover {\n",
              "      background-color: #434B5C;\n",
              "      box-shadow: 0px 1px 3px 1px rgba(0, 0, 0, 0.15);\n",
              "      filter: drop-shadow(0px 1px 2px rgba(0, 0, 0, 0.3));\n",
              "      fill: #FFFFFF;\n",
              "    }\n",
              "  </style>\n",
              "\n",
              "      <script>\n",
              "        const buttonEl =\n",
              "          document.querySelector('#df-6b80658a-40ba-4c52-b894-aed202cc150a button.colab-df-convert');\n",
              "        buttonEl.style.display =\n",
              "          google.colab.kernel.accessAllowed ? 'block' : 'none';\n",
              "\n",
              "        async function convertToInteractive(key) {\n",
              "          const element = document.querySelector('#df-6b80658a-40ba-4c52-b894-aed202cc150a');\n",
              "          const dataTable =\n",
              "            await google.colab.kernel.invokeFunction('convertToInteractive',\n",
              "                                                     [key], {});\n",
              "          if (!dataTable) return;\n",
              "\n",
              "          const docLinkHtml = 'Like what you see? Visit the ' +\n",
              "            '<a target=\"_blank\" href=https://colab.research.google.com/notebooks/data_table.ipynb>data table notebook</a>'\n",
              "            + ' to learn more about interactive tables.';\n",
              "          element.innerHTML = '';\n",
              "          dataTable['output_type'] = 'display_data';\n",
              "          await google.colab.output.renderOutput(dataTable, element);\n",
              "          const docLink = document.createElement('div');\n",
              "          docLink.innerHTML = docLinkHtml;\n",
              "          element.appendChild(docLink);\n",
              "        }\n",
              "      </script>\n",
              "    </div>\n",
              "  </div>\n",
              "  "
            ]
          },
          "metadata": {},
          "execution_count": 20
        }
      ]
    },
    {
      "cell_type": "markdown",
      "source": [
        "We can see all the data types from each collumn and non-null rows:"
      ],
      "metadata": {
        "id": "LF810-JkBRFK"
      }
    },
    {
      "cell_type": "code",
      "source": [
        "# displays more information about data types and quantity of entries presented in this table.\n",
        "AMETS_A.info()"
      ],
      "metadata": {
        "colab": {
          "base_uri": "https://localhost:8080/"
        },
        "id": "V66pfCsAMX-O",
        "outputId": "2907e72e-d52d-4279-b289-469904f0deca"
      },
      "execution_count": 21,
      "outputs": [
        {
          "output_type": "stream",
          "name": "stdout",
          "text": [
            "<class 'pandas.core.frame.DataFrame'>\n",
            "RangeIndex: 16772 entries, 0 to 16771\n",
            "Data columns (total 12 columns):\n",
            " #   Column                 Non-Null Count  Dtype \n",
            "---  ------                 --------------  ----- \n",
            " 0   longitude              16772 non-null  object\n",
            " 1   latitude               16772 non-null  object\n",
            " 2   time                   16772 non-null  object\n",
            " 3   station_id             16771 non-null  object\n",
            " 4   PeakPeriod             16772 non-null  object\n",
            " 5   PeakDirection          16772 non-null  object\n",
            " 6   UpcrossPeriod          16772 non-null  object\n",
            " 7   SignificantWaveHeight  16772 non-null  object\n",
            " 8   Hmax                   1 non-null      object\n",
            " 9   SeaTemperature         16772 non-null  object\n",
            " 10  MeanCurSpeed           1 non-null      object\n",
            " 11  MeanCurDirTo           1 non-null      object\n",
            "dtypes: object(12)\n",
            "memory usage: 1.5+ MB\n"
          ]
        }
      ]
    },
    {
      "cell_type": "markdown",
      "source": [
        "This table comprises of 16.772 observations and 12 characteristics."
      ],
      "metadata": {
        "id": "6v7uzNiTssdu"
      }
    },
    {
      "cell_type": "markdown",
      "source": [
        "Ok! Let's use our first question to guide our analysis. \n",
        " \n",
        "1. What is the lowest temperature of each one of the Bouys? and a. Which usually month it occurs?\n",
        "\n",
        "Accessing the **Waves** dataset we can obtain several parameters, included the **Sea Temperature** which is our interest. So, using the Digital Ocean website we can download a csv file that contains information for each Buoy."
      ],
      "metadata": {
        "id": "z0cG8MZnwPrJ"
      }
    },
    {
      "cell_type": "markdown",
      "source": [
        "Before extracting information about the Sea Temperature we should take a very important step, which is load all similar data and preparate it for analysis. "
      ],
      "metadata": {
        "id": "Ua-P5um8xGvD"
      }
    },
    {
      "cell_type": "markdown",
      "source": [
        "We have just looked to one of six Buoys available. In order to know the lowest sea temperature of each bouy we should concatenate all the tables that has the same collumns in one dataframe, which are located in our **Waves** directory. \n",
        "First, we need a list of paths from each file located in the directory."
      ],
      "metadata": {
        "id": "6O66IHVaj0TK"
      }
    },
    {
      "cell_type": "markdown",
      "source": [
        "We alrealdy loaded the data to our /tmp directory, now let's read each file contained on wave directory. We need the entire path from each file, let's assign them to a variable **list_wave_paths**."
      ],
      "metadata": {
        "id": "1Qwux9dGCR3y"
      }
    },
    {
      "cell_type": "code",
      "source": [
        "dir_waves = '/tmp/digital_ocean-main/waves' # path which contains all waves files\n",
        "list_wave_paths = glob.glob(os.path.join(dir_waves, \"*.csv\")) #list all paths in wave directory\n",
        "print(list_wave_paths)\n"
      ],
      "metadata": {
        "colab": {
          "base_uri": "https://localhost:8080/"
        },
        "id": "kXonLh-W1V23",
        "outputId": "b17b7fe3-603c-4603-dc1f-2c994132a3d9"
      },
      "execution_count": 26,
      "outputs": [
        {
          "output_type": "stream",
          "name": "stdout",
          "text": [
            "['/tmp/digital_ocean-main/waves/Clew_Bay.csv', '/tmp/digital_ocean-main/waves/SmartBay_Wave_Buoy.csv', '/tmp/digital_ocean-main/waves/AMETS_Berth_A_Wave_Buoy.csv', '/tmp/digital_ocean-main/waves/Bantry_Bay.csv', '/tmp/digital_ocean-main/waves/Brandon_Bay.csv', '/tmp/digital_ocean-main/waves/AMETS_Berth_B_Wave_Buoy.csv']\n"
          ]
        }
      ]
    },
    {
      "cell_type": "markdown",
      "source": [
        "As we can see, the list_wave_paths has the paths from each buoy location."
      ],
      "metadata": {
        "id": "NEV-pBVdCigL"
      }
    },
    {
      "cell_type": "markdown",
      "source": [
        "Each file has the same collumns, then we can read it and concatenate each one in only one dataframe named **dfs_concat_wave**. "
      ],
      "metadata": {
        "id": "YuDlG-Sz1j68"
      }
    },
    {
      "cell_type": "code",
      "source": [
        "wave_dfs = (pd.read_csv(f) for f in list_wave_paths) #read each file in the list_wave_paths\n",
        "dfs_concat_wave = pd.concat(wave_dfs, ignore_index=True) #concatenates the dataframes"
      ],
      "metadata": {
        "colab": {
          "base_uri": "https://localhost:8080/"
        },
        "id": "jAML8i_UkqDG",
        "outputId": "9401be94-e0b1-4a38-c495-8c41462171e8"
      },
      "execution_count": 27,
      "outputs": [
        {
          "output_type": "stream",
          "name": "stderr",
          "text": [
            "/usr/local/lib/python3.7/dist-packages/pandas/core/reshape/concat.py:348: DtypeWarning: Columns (0,1,4,5,6,7,8,9,10,11) have mixed types.Specify dtype option on import or set low_memory=False.\n",
            "  objs = list(objs)\n",
            "/usr/local/lib/python3.7/dist-packages/pandas/core/reshape/concat.py:348: DtypeWarning: Columns (0,1,4,5,6,7,8,9,10,11) have mixed types.Specify dtype option on import or set low_memory=False.\n",
            "  objs = list(objs)\n"
          ]
        }
      ]
    },
    {
      "cell_type": "markdown",
      "source": [
        "Nice! Now we can see that we have more rows than ever: 249.808 observations and 12 collumns! All data types are object and there are some rows with null values."
      ],
      "metadata": {
        "id": "kHT8qDUroGp8"
      }
    },
    {
      "cell_type": "code",
      "source": [
        "dfs_concat_wave.info()"
      ],
      "metadata": {
        "colab": {
          "base_uri": "https://localhost:8080/"
        },
        "id": "kBBDjLFBnzEM",
        "outputId": "0dc456fa-eec6-4d19-df42-12c0ac2c41eb"
      },
      "execution_count": 14,
      "outputs": [
        {
          "output_type": "stream",
          "name": "stdout",
          "text": [
            "<class 'pandas.core.frame.DataFrame'>\n",
            "RangeIndex: 249808 entries, 0 to 249807\n",
            "Data columns (total 12 columns):\n",
            " #   Column                 Non-Null Count   Dtype \n",
            "---  ------                 --------------   ----- \n",
            " 0   longitude              249808 non-null  object\n",
            " 1   latitude               249808 non-null  object\n",
            " 2   time                   249808 non-null  object\n",
            " 3   station_id             249802 non-null  object\n",
            " 4   PeakPeriod             77381 non-null   object\n",
            " 5   PeakDirection          77381 non-null   object\n",
            " 6   UpcrossPeriod          77381 non-null   object\n",
            " 7   SignificantWaveHeight  77381 non-null   object\n",
            " 8   Hmax                   34456 non-null   object\n",
            " 9   SeaTemperature         249808 non-null  object\n",
            " 10  MeanCurSpeed           52605 non-null   object\n",
            " 11  MeanCurDirTo           52602 non-null   object\n",
            "dtypes: object(12)\n",
            "memory usage: 22.9+ MB\n"
          ]
        }
      ]
    },
    {
      "cell_type": "markdown",
      "source": [
        "### Our first question: 1. What is the lowest temperature of each one of the Bouys? and a. Which usually month it occurs?"
      ],
      "metadata": {
        "id": "nRvCq5aRttlJ"
      }
    },
    {
      "cell_type": "markdown",
      "source": [
        "Now we have all files in one dataframe. We need three columns from **dfs_concat_wave** to answer the **1.** and **a.** questions: **station_id**, **sea temperature** and **month**. Each name of the buoy is indexed in **station_id** collumn and the month might be obtained from **time** after some data transformations. \n",
        "\n",
        "Let's get these collumns to explore more about sea temperature. "
      ],
      "metadata": {
        "id": "W60p5hDqu9aC"
      }
    },
    {
      "cell_type": "code",
      "source": [
        "dfs_concat_wave[['SeaTemperature','time','station_id']]"
      ],
      "metadata": {
        "colab": {
          "base_uri": "https://localhost:8080/",
          "height": 424
        },
        "id": "asDXPM32t8xL",
        "outputId": "8a117a2c-c1e8-48e0-926e-7cd8a8904fd0"
      },
      "execution_count": 29,
      "outputs": [
        {
          "output_type": "execute_result",
          "data": {
            "text/plain": [
              "       SeaTemperature                  time               station_id\n",
              "0            degree_C                   UTC                      NaN\n",
              "1                13.3  2021-10-30T00:03:00Z                 Clew Bay\n",
              "2                13.3  2021-10-30T00:33:00Z                 Clew Bay\n",
              "3               13.25  2021-10-30T01:03:00Z                 Clew Bay\n",
              "4               13.25  2021-10-30T01:33:00Z                 Clew Bay\n",
              "...               ...                   ...                      ...\n",
              "249803           15.2  2022-09-05T21:32:00Z  AMETS Berth B Wave Buoy\n",
              "249804           15.2  2022-09-05T22:02:00Z  AMETS Berth B Wave Buoy\n",
              "249805           15.2  2022-09-05T22:32:00Z  AMETS Berth B Wave Buoy\n",
              "249806           15.2  2022-09-05T23:02:00Z  AMETS Berth B Wave Buoy\n",
              "249807           15.2  2022-09-05T23:32:00Z  AMETS Berth B Wave Buoy\n",
              "\n",
              "[249808 rows x 3 columns]"
            ],
            "text/html": [
              "\n",
              "  <div id=\"df-cf6df1ab-9644-4f58-8d4e-c2911528c659\">\n",
              "    <div class=\"colab-df-container\">\n",
              "      <div>\n",
              "<style scoped>\n",
              "    .dataframe tbody tr th:only-of-type {\n",
              "        vertical-align: middle;\n",
              "    }\n",
              "\n",
              "    .dataframe tbody tr th {\n",
              "        vertical-align: top;\n",
              "    }\n",
              "\n",
              "    .dataframe thead th {\n",
              "        text-align: right;\n",
              "    }\n",
              "</style>\n",
              "<table border=\"1\" class=\"dataframe\">\n",
              "  <thead>\n",
              "    <tr style=\"text-align: right;\">\n",
              "      <th></th>\n",
              "      <th>SeaTemperature</th>\n",
              "      <th>time</th>\n",
              "      <th>station_id</th>\n",
              "    </tr>\n",
              "  </thead>\n",
              "  <tbody>\n",
              "    <tr>\n",
              "      <th>0</th>\n",
              "      <td>degree_C</td>\n",
              "      <td>UTC</td>\n",
              "      <td>NaN</td>\n",
              "    </tr>\n",
              "    <tr>\n",
              "      <th>1</th>\n",
              "      <td>13.3</td>\n",
              "      <td>2021-10-30T00:03:00Z</td>\n",
              "      <td>Clew Bay</td>\n",
              "    </tr>\n",
              "    <tr>\n",
              "      <th>2</th>\n",
              "      <td>13.3</td>\n",
              "      <td>2021-10-30T00:33:00Z</td>\n",
              "      <td>Clew Bay</td>\n",
              "    </tr>\n",
              "    <tr>\n",
              "      <th>3</th>\n",
              "      <td>13.25</td>\n",
              "      <td>2021-10-30T01:03:00Z</td>\n",
              "      <td>Clew Bay</td>\n",
              "    </tr>\n",
              "    <tr>\n",
              "      <th>4</th>\n",
              "      <td>13.25</td>\n",
              "      <td>2021-10-30T01:33:00Z</td>\n",
              "      <td>Clew Bay</td>\n",
              "    </tr>\n",
              "    <tr>\n",
              "      <th>...</th>\n",
              "      <td>...</td>\n",
              "      <td>...</td>\n",
              "      <td>...</td>\n",
              "    </tr>\n",
              "    <tr>\n",
              "      <th>249803</th>\n",
              "      <td>15.2</td>\n",
              "      <td>2022-09-05T21:32:00Z</td>\n",
              "      <td>AMETS Berth B Wave Buoy</td>\n",
              "    </tr>\n",
              "    <tr>\n",
              "      <th>249804</th>\n",
              "      <td>15.2</td>\n",
              "      <td>2022-09-05T22:02:00Z</td>\n",
              "      <td>AMETS Berth B Wave Buoy</td>\n",
              "    </tr>\n",
              "    <tr>\n",
              "      <th>249805</th>\n",
              "      <td>15.2</td>\n",
              "      <td>2022-09-05T22:32:00Z</td>\n",
              "      <td>AMETS Berth B Wave Buoy</td>\n",
              "    </tr>\n",
              "    <tr>\n",
              "      <th>249806</th>\n",
              "      <td>15.2</td>\n",
              "      <td>2022-09-05T23:02:00Z</td>\n",
              "      <td>AMETS Berth B Wave Buoy</td>\n",
              "    </tr>\n",
              "    <tr>\n",
              "      <th>249807</th>\n",
              "      <td>15.2</td>\n",
              "      <td>2022-09-05T23:32:00Z</td>\n",
              "      <td>AMETS Berth B Wave Buoy</td>\n",
              "    </tr>\n",
              "  </tbody>\n",
              "</table>\n",
              "<p>249808 rows × 3 columns</p>\n",
              "</div>\n",
              "      <button class=\"colab-df-convert\" onclick=\"convertToInteractive('df-cf6df1ab-9644-4f58-8d4e-c2911528c659')\"\n",
              "              title=\"Convert this dataframe to an interactive table.\"\n",
              "              style=\"display:none;\">\n",
              "        \n",
              "  <svg xmlns=\"http://www.w3.org/2000/svg\" height=\"24px\"viewBox=\"0 0 24 24\"\n",
              "       width=\"24px\">\n",
              "    <path d=\"M0 0h24v24H0V0z\" fill=\"none\"/>\n",
              "    <path d=\"M18.56 5.44l.94 2.06.94-2.06 2.06-.94-2.06-.94-.94-2.06-.94 2.06-2.06.94zm-11 1L8.5 8.5l.94-2.06 2.06-.94-2.06-.94L8.5 2.5l-.94 2.06-2.06.94zm10 10l.94 2.06.94-2.06 2.06-.94-2.06-.94-.94-2.06-.94 2.06-2.06.94z\"/><path d=\"M17.41 7.96l-1.37-1.37c-.4-.4-.92-.59-1.43-.59-.52 0-1.04.2-1.43.59L10.3 9.45l-7.72 7.72c-.78.78-.78 2.05 0 2.83L4 21.41c.39.39.9.59 1.41.59.51 0 1.02-.2 1.41-.59l7.78-7.78 2.81-2.81c.8-.78.8-2.07 0-2.86zM5.41 20L4 18.59l7.72-7.72 1.47 1.35L5.41 20z\"/>\n",
              "  </svg>\n",
              "      </button>\n",
              "      \n",
              "  <style>\n",
              "    .colab-df-container {\n",
              "      display:flex;\n",
              "      flex-wrap:wrap;\n",
              "      gap: 12px;\n",
              "    }\n",
              "\n",
              "    .colab-df-convert {\n",
              "      background-color: #E8F0FE;\n",
              "      border: none;\n",
              "      border-radius: 50%;\n",
              "      cursor: pointer;\n",
              "      display: none;\n",
              "      fill: #1967D2;\n",
              "      height: 32px;\n",
              "      padding: 0 0 0 0;\n",
              "      width: 32px;\n",
              "    }\n",
              "\n",
              "    .colab-df-convert:hover {\n",
              "      background-color: #E2EBFA;\n",
              "      box-shadow: 0px 1px 2px rgba(60, 64, 67, 0.3), 0px 1px 3px 1px rgba(60, 64, 67, 0.15);\n",
              "      fill: #174EA6;\n",
              "    }\n",
              "\n",
              "    [theme=dark] .colab-df-convert {\n",
              "      background-color: #3B4455;\n",
              "      fill: #D2E3FC;\n",
              "    }\n",
              "\n",
              "    [theme=dark] .colab-df-convert:hover {\n",
              "      background-color: #434B5C;\n",
              "      box-shadow: 0px 1px 3px 1px rgba(0, 0, 0, 0.15);\n",
              "      filter: drop-shadow(0px 1px 2px rgba(0, 0, 0, 0.3));\n",
              "      fill: #FFFFFF;\n",
              "    }\n",
              "  </style>\n",
              "\n",
              "      <script>\n",
              "        const buttonEl =\n",
              "          document.querySelector('#df-cf6df1ab-9644-4f58-8d4e-c2911528c659 button.colab-df-convert');\n",
              "        buttonEl.style.display =\n",
              "          google.colab.kernel.accessAllowed ? 'block' : 'none';\n",
              "\n",
              "        async function convertToInteractive(key) {\n",
              "          const element = document.querySelector('#df-cf6df1ab-9644-4f58-8d4e-c2911528c659');\n",
              "          const dataTable =\n",
              "            await google.colab.kernel.invokeFunction('convertToInteractive',\n",
              "                                                     [key], {});\n",
              "          if (!dataTable) return;\n",
              "\n",
              "          const docLinkHtml = 'Like what you see? Visit the ' +\n",
              "            '<a target=\"_blank\" href=https://colab.research.google.com/notebooks/data_table.ipynb>data table notebook</a>'\n",
              "            + ' to learn more about interactive tables.';\n",
              "          element.innerHTML = '';\n",
              "          dataTable['output_type'] = 'display_data';\n",
              "          await google.colab.output.renderOutput(dataTable, element);\n",
              "          const docLink = document.createElement('div');\n",
              "          docLink.innerHTML = docLinkHtml;\n",
              "          element.appendChild(docLink);\n",
              "        }\n",
              "      </script>\n",
              "    </div>\n",
              "  </div>\n",
              "  "
            ]
          },
          "metadata": {},
          "execution_count": 29
        }
      ]
    },
    {
      "cell_type": "markdown",
      "source": [
        "We can observe that the first row of the Sea Temperature collumn from each csv file previously concatenated has string values mixed with numeric data. In order to get around this problem and obtain only numeric data from the sea temperature collumn we need to transform the data from object to float type, as follows:\n"
      ],
      "metadata": {
        "id": "jKmFV7edwhnu"
      }
    },
    {
      "cell_type": "code",
      "source": [
        "dfs_concat_wave = dfs_concat_wave[pd.to_numeric(dfs_concat_wave['SeaTemperature'], errors='coerce').notnull()]\n",
        "dfs_concat_wave['SeaTemperature'] = dfs_concat_wave['SeaTemperature'].astype(float)"
      ],
      "metadata": {
        "colab": {
          "base_uri": "https://localhost:8080/"
        },
        "id": "pizazmB3DPvd",
        "outputId": "045704da-e4d5-4d03-d475-8900e2c04842"
      },
      "execution_count": 30,
      "outputs": [
        {
          "output_type": "stream",
          "name": "stderr",
          "text": [
            "/usr/local/lib/python3.7/dist-packages/ipykernel_launcher.py:2: SettingWithCopyWarning: \n",
            "A value is trying to be set on a copy of a slice from a DataFrame.\n",
            "Try using .loc[row_indexer,col_indexer] = value instead\n",
            "\n",
            "See the caveats in the documentation: https://pandas.pydata.org/pandas-docs/stable/user_guide/indexing.html#returning-a-view-versus-a-copy\n",
            "  \n"
          ]
        }
      ]
    },
    {
      "cell_type": "markdown",
      "source": [
        "Note that the data type now is float and we removed 6 rows that contained string values instead numeric."
      ],
      "metadata": {
        "id": "SmT0RaM7qRWc"
      }
    },
    {
      "cell_type": "code",
      "source": [
        "dfs_concat_wave['SeaTemperature']"
      ],
      "metadata": {
        "colab": {
          "base_uri": "https://localhost:8080/"
        },
        "id": "2q0TNy8zprmb",
        "outputId": "6a8a6738-d230-4f4f-f8e0-10ec9f3de5d1"
      },
      "execution_count": 31,
      "outputs": [
        {
          "output_type": "execute_result",
          "data": {
            "text/plain": [
              "1         13.30\n",
              "2         13.30\n",
              "3         13.25\n",
              "4         13.25\n",
              "5         13.20\n",
              "          ...  \n",
              "249803    15.20\n",
              "249804    15.20\n",
              "249805    15.20\n",
              "249806    15.20\n",
              "249807    15.20\n",
              "Name: SeaTemperature, Length: 249802, dtype: float64"
            ]
          },
          "metadata": {},
          "execution_count": 31
        }
      ]
    },
    {
      "cell_type": "markdown",
      "source": [
        "In order to get the lowest temperature for each buoy, we need to get the lowest sea temperature index and group by station_id. Let's do it:"
      ],
      "metadata": {
        "id": "0rFXowuzD8MZ"
      }
    },
    {
      "cell_type": "code",
      "source": [
        "min_sea_temperature = dfs_concat_wave.loc[dfs_concat_wave.groupby('station_id').SeaTemperature.idxmin()]"
      ],
      "metadata": {
        "id": "gtn7RRRb4XoY"
      },
      "execution_count": 32,
      "outputs": []
    },
    {
      "cell_type": "markdown",
      "source": [
        "Now we already have all the information we needed to answer 1 and a questions:"
      ],
      "metadata": {
        "id": "eBZPGrEyEc8U"
      }
    },
    {
      "cell_type": "code",
      "source": [
        "min_sea_temperature[['station_id','SeaTemperature','time']]"
      ],
      "metadata": {
        "colab": {
          "base_uri": "https://localhost:8080/",
          "height": 237
        },
        "id": "SRRx5TS4urwY",
        "outputId": "ee19b140-76a2-45ca-c1dc-27ca70874452"
      },
      "execution_count": 33,
      "outputs": [
        {
          "output_type": "execute_result",
          "data": {
            "text/plain": [
              "                     station_id  SeaTemperature                  time\n",
              "88405   AMETS Berth A Wave Buoy            8.55  2022-03-26T08:04:00Z\n",
              "241983  AMETS Berth B Wave Buoy            8.15  2022-03-26T05:02:00Z\n",
              "145608               Bantry Bay            5.27  2022-03-14T08:45:00Z\n",
              "233245              Brandon Bay            4.47  2022-03-03T23:15:00Z\n",
              "5073                   Clew Bay            7.50  2022-03-01T09:03:00Z\n",
              "44570        SmartBay Wave Buoy            5.31  2022-01-17T04:45:00Z"
            ],
            "text/html": [
              "\n",
              "  <div id=\"df-e9f9e304-958f-4bfd-88db-a53fe03446be\">\n",
              "    <div class=\"colab-df-container\">\n",
              "      <div>\n",
              "<style scoped>\n",
              "    .dataframe tbody tr th:only-of-type {\n",
              "        vertical-align: middle;\n",
              "    }\n",
              "\n",
              "    .dataframe tbody tr th {\n",
              "        vertical-align: top;\n",
              "    }\n",
              "\n",
              "    .dataframe thead th {\n",
              "        text-align: right;\n",
              "    }\n",
              "</style>\n",
              "<table border=\"1\" class=\"dataframe\">\n",
              "  <thead>\n",
              "    <tr style=\"text-align: right;\">\n",
              "      <th></th>\n",
              "      <th>station_id</th>\n",
              "      <th>SeaTemperature</th>\n",
              "      <th>time</th>\n",
              "    </tr>\n",
              "  </thead>\n",
              "  <tbody>\n",
              "    <tr>\n",
              "      <th>88405</th>\n",
              "      <td>AMETS Berth A Wave Buoy</td>\n",
              "      <td>8.55</td>\n",
              "      <td>2022-03-26T08:04:00Z</td>\n",
              "    </tr>\n",
              "    <tr>\n",
              "      <th>241983</th>\n",
              "      <td>AMETS Berth B Wave Buoy</td>\n",
              "      <td>8.15</td>\n",
              "      <td>2022-03-26T05:02:00Z</td>\n",
              "    </tr>\n",
              "    <tr>\n",
              "      <th>145608</th>\n",
              "      <td>Bantry Bay</td>\n",
              "      <td>5.27</td>\n",
              "      <td>2022-03-14T08:45:00Z</td>\n",
              "    </tr>\n",
              "    <tr>\n",
              "      <th>233245</th>\n",
              "      <td>Brandon Bay</td>\n",
              "      <td>4.47</td>\n",
              "      <td>2022-03-03T23:15:00Z</td>\n",
              "    </tr>\n",
              "    <tr>\n",
              "      <th>5073</th>\n",
              "      <td>Clew Bay</td>\n",
              "      <td>7.50</td>\n",
              "      <td>2022-03-01T09:03:00Z</td>\n",
              "    </tr>\n",
              "    <tr>\n",
              "      <th>44570</th>\n",
              "      <td>SmartBay Wave Buoy</td>\n",
              "      <td>5.31</td>\n",
              "      <td>2022-01-17T04:45:00Z</td>\n",
              "    </tr>\n",
              "  </tbody>\n",
              "</table>\n",
              "</div>\n",
              "      <button class=\"colab-df-convert\" onclick=\"convertToInteractive('df-e9f9e304-958f-4bfd-88db-a53fe03446be')\"\n",
              "              title=\"Convert this dataframe to an interactive table.\"\n",
              "              style=\"display:none;\">\n",
              "        \n",
              "  <svg xmlns=\"http://www.w3.org/2000/svg\" height=\"24px\"viewBox=\"0 0 24 24\"\n",
              "       width=\"24px\">\n",
              "    <path d=\"M0 0h24v24H0V0z\" fill=\"none\"/>\n",
              "    <path d=\"M18.56 5.44l.94 2.06.94-2.06 2.06-.94-2.06-.94-.94-2.06-.94 2.06-2.06.94zm-11 1L8.5 8.5l.94-2.06 2.06-.94-2.06-.94L8.5 2.5l-.94 2.06-2.06.94zm10 10l.94 2.06.94-2.06 2.06-.94-2.06-.94-.94-2.06-.94 2.06-2.06.94z\"/><path d=\"M17.41 7.96l-1.37-1.37c-.4-.4-.92-.59-1.43-.59-.52 0-1.04.2-1.43.59L10.3 9.45l-7.72 7.72c-.78.78-.78 2.05 0 2.83L4 21.41c.39.39.9.59 1.41.59.51 0 1.02-.2 1.41-.59l7.78-7.78 2.81-2.81c.8-.78.8-2.07 0-2.86zM5.41 20L4 18.59l7.72-7.72 1.47 1.35L5.41 20z\"/>\n",
              "  </svg>\n",
              "      </button>\n",
              "      \n",
              "  <style>\n",
              "    .colab-df-container {\n",
              "      display:flex;\n",
              "      flex-wrap:wrap;\n",
              "      gap: 12px;\n",
              "    }\n",
              "\n",
              "    .colab-df-convert {\n",
              "      background-color: #E8F0FE;\n",
              "      border: none;\n",
              "      border-radius: 50%;\n",
              "      cursor: pointer;\n",
              "      display: none;\n",
              "      fill: #1967D2;\n",
              "      height: 32px;\n",
              "      padding: 0 0 0 0;\n",
              "      width: 32px;\n",
              "    }\n",
              "\n",
              "    .colab-df-convert:hover {\n",
              "      background-color: #E2EBFA;\n",
              "      box-shadow: 0px 1px 2px rgba(60, 64, 67, 0.3), 0px 1px 3px 1px rgba(60, 64, 67, 0.15);\n",
              "      fill: #174EA6;\n",
              "    }\n",
              "\n",
              "    [theme=dark] .colab-df-convert {\n",
              "      background-color: #3B4455;\n",
              "      fill: #D2E3FC;\n",
              "    }\n",
              "\n",
              "    [theme=dark] .colab-df-convert:hover {\n",
              "      background-color: #434B5C;\n",
              "      box-shadow: 0px 1px 3px 1px rgba(0, 0, 0, 0.15);\n",
              "      filter: drop-shadow(0px 1px 2px rgba(0, 0, 0, 0.3));\n",
              "      fill: #FFFFFF;\n",
              "    }\n",
              "  </style>\n",
              "\n",
              "      <script>\n",
              "        const buttonEl =\n",
              "          document.querySelector('#df-e9f9e304-958f-4bfd-88db-a53fe03446be button.colab-df-convert');\n",
              "        buttonEl.style.display =\n",
              "          google.colab.kernel.accessAllowed ? 'block' : 'none';\n",
              "\n",
              "        async function convertToInteractive(key) {\n",
              "          const element = document.querySelector('#df-e9f9e304-958f-4bfd-88db-a53fe03446be');\n",
              "          const dataTable =\n",
              "            await google.colab.kernel.invokeFunction('convertToInteractive',\n",
              "                                                     [key], {});\n",
              "          if (!dataTable) return;\n",
              "\n",
              "          const docLinkHtml = 'Like what you see? Visit the ' +\n",
              "            '<a target=\"_blank\" href=https://colab.research.google.com/notebooks/data_table.ipynb>data table notebook</a>'\n",
              "            + ' to learn more about interactive tables.';\n",
              "          element.innerHTML = '';\n",
              "          dataTable['output_type'] = 'display_data';\n",
              "          await google.colab.output.renderOutput(dataTable, element);\n",
              "          const docLink = document.createElement('div');\n",
              "          docLink.innerHTML = docLinkHtml;\n",
              "          element.appendChild(docLink);\n",
              "        }\n",
              "      </script>\n",
              "    </div>\n",
              "  </div>\n",
              "  "
            ]
          },
          "metadata": {},
          "execution_count": 33
        }
      ]
    },
    {
      "cell_type": "markdown",
      "source": [
        "We can plot this in a graph for better visualization, as follows:"
      ],
      "metadata": {
        "id": "GJmRX3qezKS2"
      }
    },
    {
      "cell_type": "code",
      "source": [
        "from matplotlib import pyplot as plt\n",
        "# Figure Size\n",
        "fig, ax = plt.subplots(figsize =(14, 8))\n",
        "\n",
        "# Horizontal Bar Plot\n",
        "ax.barh(min_sea_temperature['station_id'].values, min_sea_temperature['SeaTemperature'].values)\n",
        "\n",
        "# Add x, y gridlines\n",
        "ax.grid(b = True, color ='black',\n",
        "        linestyle ='-.', linewidth = 0.5,\n",
        "        alpha = 0.4,)\n",
        " \n",
        "# Add annotation to bars\n",
        "for i in ax.patches:\n",
        "    plt.text(i.get_width()+0.05, i.get_y()+0.4,\n",
        "             str(round((i.get_width()), 2)),\n",
        "             fontsize = 12, fontweight ='bold',\n",
        "             color ='black')\n",
        " \n",
        "# Add Plot Title\n",
        "ax.set_title('The lowest temperature of each one of the Bouys for the period 17/09/2021 ~ 17/09/2022',\n",
        "             loc ='left', fontsize = 16 )\n"
      ],
      "metadata": {
        "colab": {
          "base_uri": "https://localhost:8080/",
          "height": 518
        },
        "id": "gL6uJGVqHF2l",
        "outputId": "e58478a0-d18b-4d53-c1ae-c3e97313cdf9"
      },
      "execution_count": 34,
      "outputs": [
        {
          "output_type": "execute_result",
          "data": {
            "text/plain": [
              "Text(0.0, 1.0, 'The lowest temperature of each one of the Bouys for the period 17/09/2021 ~ 17/09/2022')"
            ]
          },
          "metadata": {},
          "execution_count": 34
        },
        {
          "output_type": "display_data",
          "data": {
            "text/plain": [
              "<Figure size 1008x576 with 1 Axes>"
            ],
            "image/png": "[encoded data removed]"
          },
          "metadata": {
            "needs_background": "light"
          }
        }
      ]
    },
    {
      "cell_type": "markdown",
      "source": [
        "Okay, we already can see which month the lowest sea temperature usually occurs: "
      ],
      "metadata": {
        "id": "IzHVG-S1q0hS"
      }
    },
    {
      "cell_type": "code",
      "source": [
        "min_sea_temperature['time']"
      ],
      "metadata": {
        "colab": {
          "base_uri": "https://localhost:8080/"
        },
        "id": "bWGJgMItt_1x",
        "outputId": "59da8878-a4e5-4e75-b6f3-f34d26f60f6c"
      },
      "execution_count": 35,
      "outputs": [
        {
          "output_type": "execute_result",
          "data": {
            "text/plain": [
              "88405     2022-03-26T08:04:00Z\n",
              "241983    2022-03-26T05:02:00Z\n",
              "145608    2022-03-14T08:45:00Z\n",
              "233245    2022-03-03T23:15:00Z\n",
              "5073      2022-03-01T09:03:00Z\n",
              "44570     2022-01-17T04:45:00Z\n",
              "Name: time, dtype: object"
            ]
          },
          "metadata": {},
          "execution_count": 35
        }
      ]
    },
    {
      "cell_type": "markdown",
      "source": [
        "Considering that we could have a large dataset let's plot an graph for better visualization. For this, we can use datetime method from pandas to exclude the time information and only get the information about the month. "
      ],
      "metadata": {
        "id": "sNGUclO3zg6_"
      }
    },
    {
      "cell_type": "code",
      "source": [
        "min_sea_temperature['time'] = pd.to_datetime(min_sea_temperature['time']).dt.month"
      ],
      "metadata": {
        "id": "NW71WPY6vV6H"
      },
      "execution_count": 36,
      "outputs": []
    },
    {
      "cell_type": "code",
      "source": [
        "min_sea_temperature['time']"
      ],
      "metadata": {
        "colab": {
          "base_uri": "https://localhost:8080/"
        },
        "id": "aM0gsPEsvVup",
        "outputId": "a988cde8-f770-450c-8a58-736853f9e581"
      },
      "execution_count": 37,
      "outputs": [
        {
          "output_type": "execute_result",
          "data": {
            "text/plain": [
              "88405     3\n",
              "241983    3\n",
              "145608    3\n",
              "233245    3\n",
              "5073      3\n",
              "44570     1\n",
              "Name: time, dtype: int64"
            ]
          },
          "metadata": {},
          "execution_count": 37
        }
      ]
    },
    {
      "cell_type": "markdown",
      "source": [
        "Then we plot a histogram to get the month distribution which occurs the lowest temperature."
      ],
      "metadata": {
        "id": "mFQFvRKJ1-BO"
      }
    },
    {
      "cell_type": "code",
      "source": [
        "min_sea_temperature['time'].hist(bins=range(0,12))\n",
        "plt.title('Month Frequency of Lowest Sea Temperature')\n",
        "plt.xlabel('Month')\n",
        "plt.ylabel('Frequency')"
      ],
      "metadata": {
        "colab": {
          "base_uri": "https://localhost:8080/",
          "height": 312
        },
        "id": "pjUz7KNMzxGG",
        "outputId": "8c915636-0e6b-4d39-8c24-7e877b918525"
      },
      "execution_count": 38,
      "outputs": [
        {
          "output_type": "execute_result",
          "data": {
            "text/plain": [
              "Text(0, 0.5, 'Frequency')"
            ]
          },
          "metadata": {},
          "execution_count": 38
        },
        {
          "output_type": "display_data",
          "data": {
            "text/plain": [
              "<Figure size 432x288 with 1 Axes>"
            ],
            "image/png": "[encoded data removed]"
          },
          "metadata": {
            "needs_background": "light"
          }
        }
      ]
    },
    {
      "cell_type": "markdown",
      "source": [
        "As we can see from the histogram above, the lowest sea temperature occurs on January for SmartBay Wave buoy and on March for the others buoys. "
      ],
      "metadata": {
        "id": "UA4ceP9VeAzC"
      }
    },
    {
      "cell_type": "markdown",
      "source": [
        "Let's go for our second question!"
      ],
      "metadata": {
        "id": "I5qX5jEdfoPn"
      }
    },
    {
      "cell_type": "markdown",
      "source": [
        "### 2. Where (lat/long) do we have the biggest water level? and a. Which usually month it occurs?"
      ],
      "metadata": {
        "id": "3YIyGfouyXCq"
      }
    },
    {
      "cell_type": "markdown",
      "source": [
        "Well, there is no information about water level on Waves dataset. So, let's check on Tides and explore this new set together."
      ],
      "metadata": {
        "id": "m-KHHHNI3TcH"
      }
    },
    {
      "cell_type": "markdown",
      "source": [
        "First we do the same we did before. We need to read all csv data located on **dir_tide**:"
      ],
      "metadata": {
        "id": "_D291xt1i1_5"
      }
    },
    {
      "cell_type": "code",
      "source": [
        "dir_tide = '/tmp/digital_ocean-main/tides'\n",
        "list_tide_paths = glob.glob(os.path.join(dir_tide, \"*.csv\")) #list all paths in tide directory\n",
        "print(list_tide_paths)"
      ],
      "metadata": {
        "colab": {
          "base_uri": "https://localhost:8080/"
        },
        "id": "rOHD_NgC_GPb",
        "outputId": "a0fa50d0-9d14-4dcf-a6ca-befae0540e87"
      },
      "execution_count": 39,
      "outputs": [
        {
          "output_type": "stream",
          "name": "stdout",
          "text": [
            "['/tmp/digital_ocean-main/tides/Dublin Port.csv', '/tmp/digital_ocean-main/tides/Castletownbere_Port.csv', '/tmp/digital_ocean-main/tides/Howth_Water_Level_1.csv', '/tmp/digital_ocean-main/tides/Wexford_Harbour.csv', '/tmp/digital_ocean-main/tides/Kinvara_Unreferenced.csv', '/tmp/digital_ocean-main/tides/Roonagh_Pier.csv', '/tmp/digital_ocean-main/tides/Skerries_Harbour.csv', '/tmp/digital_ocean-main/tides/Ballycotton_Harbour.csv', '/tmp/digital_ocean-main/tides/Killybegs_Port.csv', '/tmp/digital_ocean-main/tides/Union_Hall_Harbor.csv', '/tmp/digital_ocean-main/tides/Ballyglass_Harbour.csv', '/tmp/digital_ocean-main/tides/Galway_Port.csv', '/tmp/digital_ocean-main/tides/Dingle_Harbour.csv', '/tmp/digital_ocean-main/tides/Aranmore_Island_Leabgarrow.csv']\n"
          ]
        }
      ]
    },
    {
      "cell_type": "markdown",
      "source": [
        "Next, we read all files and concatenates them in only one dataframe named **dfs_tide_concat**.\n"
      ],
      "metadata": {
        "id": "WVMi0uQqzW-5"
      }
    },
    {
      "cell_type": "code",
      "source": [
        "tide_dfs = (pd.read_csv(f) for f in list_tide_paths) #read all csvs \n",
        "dfs_tide_concat = pd.concat(tide_dfs, ignore_index=True) #concatenates the dataframes"
      ],
      "metadata": {
        "id": "a3NbErLf4abb"
      },
      "execution_count": 40,
      "outputs": []
    },
    {
      "cell_type": "code",
      "source": [
        "dfs_tide_concat.info()"
      ],
      "metadata": {
        "colab": {
          "base_uri": "https://localhost:8080/"
        },
        "id": "YreK3-c24dcF",
        "outputId": "772b8db4-cd4d-44e5-a3da-c639b50b777c"
      },
      "execution_count": 41,
      "outputs": [
        {
          "output_type": "stream",
          "name": "stdout",
          "text": [
            "<class 'pandas.core.frame.DataFrame'>\n",
            "RangeIndex: 1265690 entries, 0 to 1265689\n",
            "Data columns (total 7 columns):\n",
            " #   Column                Non-Null Count    Dtype  \n",
            "---  ------                --------------    -----  \n",
            " 0   time                  1265690 non-null  object \n",
            " 1   station_id            1265676 non-null  object \n",
            " 2   latitude              1265690 non-null  object \n",
            " 3   longitude             1265690 non-null  object \n",
            " 4   Water_Level_LAT       1020383 non-null  object \n",
            " 5   Water_Level_OD_Malin  1265690 non-null  object \n",
            " 6   QC_Flag               1265676 non-null  float64\n",
            "dtypes: float64(1), object(6)\n",
            "memory usage: 67.6+ MB\n"
          ]
        }
      ]
    },
    {
      "cell_type": "markdown",
      "source": [
        "The dataset comprises 1.265.690 entries and 7 columns. We have 6 object and 1 float data type. "
      ],
      "metadata": {
        "id": "ehM7gCqz4xUO"
      }
    },
    {
      "cell_type": "markdown",
      "source": [
        "Nice! We can notice that in this set we have data about Water Level in LAT, which is The Lowest Astronomical Tide, an internationally standardised reference size for measuring the depth of water and to define the coastal line in sea charts."
      ],
      "metadata": {
        "id": "pe6nTAacz-dM"
      }
    },
    {
      "cell_type": "markdown",
      "source": [
        "First let assign to **biggest_water_level** all rows that are not null values. "
      ],
      "metadata": {
        "id": "o9FJNr5r0Z7S"
      }
    },
    {
      "cell_type": "code",
      "source": [
        "biggest_water_level = dfs_tide_concat.dropna() #method removes the rows that contains NULL values"
      ],
      "metadata": {
        "id": "k3lxWllWXkxf"
      },
      "execution_count": 42,
      "outputs": []
    },
    {
      "cell_type": "code",
      "source": [
        "biggest_water_level.info()"
      ],
      "metadata": {
        "colab": {
          "base_uri": "https://localhost:8080/"
        },
        "id": "2aLsEVY6ghuf",
        "outputId": "f4895454-6184-4b16-d971-610e9d1d592f"
      },
      "execution_count": 43,
      "outputs": [
        {
          "output_type": "stream",
          "name": "stdout",
          "text": [
            "<class 'pandas.core.frame.DataFrame'>\n",
            "Int64Index: 1020369 entries, 1 to 1265689\n",
            "Data columns (total 7 columns):\n",
            " #   Column                Non-Null Count    Dtype  \n",
            "---  ------                --------------    -----  \n",
            " 0   time                  1020369 non-null  object \n",
            " 1   station_id            1020369 non-null  object \n",
            " 2   latitude              1020369 non-null  object \n",
            " 3   longitude             1020369 non-null  object \n",
            " 4   Water_Level_LAT       1020369 non-null  object \n",
            " 5   Water_Level_OD_Malin  1020369 non-null  object \n",
            " 6   QC_Flag               1020369 non-null  float64\n",
            "dtypes: float64(1), object(6)\n",
            "memory usage: 62.3+ MB\n"
          ]
        }
      ]
    },
    {
      "cell_type": "markdown",
      "source": [
        "Ok, now we have 1.020.369 non-null entries!"
      ],
      "metadata": {
        "id": "U2GPgt8mglu8"
      }
    },
    {
      "cell_type": "markdown",
      "source": [
        "We need to transform the Water_Level_LAT collumn to float data type, as follows: "
      ],
      "metadata": {
        "id": "5EKN3-h41LJh"
      }
    },
    {
      "cell_type": "code",
      "source": [
        "biggest_water_level['Water_Level_LAT'] = biggest_water_level['Water_Level_LAT'].astype(float) #transforms data into float"
      ],
      "metadata": {
        "colab": {
          "base_uri": "https://localhost:8080/"
        },
        "id": "PAxwngtQ1KFc",
        "outputId": "aa31559f-a18e-4bbf-c87b-7cf7e95e0d4d"
      },
      "execution_count": 44,
      "outputs": [
        {
          "output_type": "stream",
          "name": "stderr",
          "text": [
            "/usr/local/lib/python3.7/dist-packages/ipykernel_launcher.py:1: SettingWithCopyWarning: \n",
            "A value is trying to be set on a copy of a slice from a DataFrame.\n",
            "Try using .loc[row_indexer,col_indexer] = value instead\n",
            "\n",
            "See the caveats in the documentation: https://pandas.pydata.org/pandas-docs/stable/user_guide/indexing.html#returning-a-view-versus-a-copy\n",
            "  \"\"\"Entry point for launching an IPython kernel.\n"
          ]
        }
      ]
    },
    {
      "cell_type": "code",
      "source": [
        "biggest_water_level.info()"
      ],
      "metadata": {
        "colab": {
          "base_uri": "https://localhost:8080/"
        },
        "id": "J5UHcpHIYQP8",
        "outputId": "455fac65-6bbd-4eed-8e60-47af295afca2"
      },
      "execution_count": 45,
      "outputs": [
        {
          "output_type": "stream",
          "name": "stdout",
          "text": [
            "<class 'pandas.core.frame.DataFrame'>\n",
            "Int64Index: 1020369 entries, 1 to 1265689\n",
            "Data columns (total 7 columns):\n",
            " #   Column                Non-Null Count    Dtype  \n",
            "---  ------                --------------    -----  \n",
            " 0   time                  1020369 non-null  object \n",
            " 1   station_id            1020369 non-null  object \n",
            " 2   latitude              1020369 non-null  object \n",
            " 3   longitude             1020369 non-null  object \n",
            " 4   Water_Level_LAT       1020369 non-null  float64\n",
            " 5   Water_Level_OD_Malin  1020369 non-null  object \n",
            " 6   QC_Flag               1020369 non-null  float64\n",
            "dtypes: float64(2), object(5)\n",
            "memory usage: 62.3+ MB\n"
          ]
        }
      ]
    },
    {
      "cell_type": "markdown",
      "source": [
        "Now we can satisfy our curiosity about where the biggest water level occured by getting the index of the max value from **Water_Level_Lat** collumn:"
      ],
      "metadata": {
        "id": "Zh66Z5IL8oit"
      }
    },
    {
      "cell_type": "code",
      "source": [
        "biggest_water_level.loc[[biggest_water_level['Water_Level_LAT'].idxmax()]]"
      ],
      "metadata": {
        "colab": {
          "base_uri": "https://localhost:8080/",
          "height": 81
        },
        "id": "yOUioHqq8Cku",
        "outputId": "67775ee6-0f7c-4fd9-84f9-71be83f620ee"
      },
      "execution_count": 46,
      "outputs": [
        {
          "output_type": "execute_result",
          "data": {
            "text/plain": [
              "                        time   station_id latitude longitude  Water_Level_LAT  \\\n",
              "988732  2021-12-07T07:30:00Z  Galway Port   53.269    -9.048            6.143   \n",
              "\n",
              "       Water_Level_OD_Malin  QC_Flag  \n",
              "988732                3.176      1.0  "
            ],
            "text/html": [
              "\n",
              "  <div id=\"df-ceed5347-2458-4a05-8a8a-e9f8fd1c6668\">\n",
              "    <div class=\"colab-df-container\">\n",
              "      <div>\n",
              "<style scoped>\n",
              "    .dataframe tbody tr th:only-of-type {\n",
              "        vertical-align: middle;\n",
              "    }\n",
              "\n",
              "    .dataframe tbody tr th {\n",
              "        vertical-align: top;\n",
              "    }\n",
              "\n",
              "    .dataframe thead th {\n",
              "        text-align: right;\n",
              "    }\n",
              "</style>\n",
              "<table border=\"1\" class=\"dataframe\">\n",
              "  <thead>\n",
              "    <tr style=\"text-align: right;\">\n",
              "      <th></th>\n",
              "      <th>time</th>\n",
              "      <th>station_id</th>\n",
              "      <th>latitude</th>\n",
              "      <th>longitude</th>\n",
              "      <th>Water_Level_LAT</th>\n",
              "      <th>Water_Level_OD_Malin</th>\n",
              "      <th>QC_Flag</th>\n",
              "    </tr>\n",
              "  </thead>\n",
              "  <tbody>\n",
              "    <tr>\n",
              "      <th>988732</th>\n",
              "      <td>2021-12-07T07:30:00Z</td>\n",
              "      <td>Galway Port</td>\n",
              "      <td>53.269</td>\n",
              "      <td>-9.048</td>\n",
              "      <td>6.143</td>\n",
              "      <td>3.176</td>\n",
              "      <td>1.0</td>\n",
              "    </tr>\n",
              "  </tbody>\n",
              "</table>\n",
              "</div>\n",
              "      <button class=\"colab-df-convert\" onclick=\"convertToInteractive('df-ceed5347-2458-4a05-8a8a-e9f8fd1c6668')\"\n",
              "              title=\"Convert this dataframe to an interactive table.\"\n",
              "              style=\"display:none;\">\n",
              "        \n",
              "  <svg xmlns=\"http://www.w3.org/2000/svg\" height=\"24px\"viewBox=\"0 0 24 24\"\n",
              "       width=\"24px\">\n",
              "    <path d=\"M0 0h24v24H0V0z\" fill=\"none\"/>\n",
              "    <path d=\"M18.56 5.44l.94 2.06.94-2.06 2.06-.94-2.06-.94-.94-2.06-.94 2.06-2.06.94zm-11 1L8.5 8.5l.94-2.06 2.06-.94-2.06-.94L8.5 2.5l-.94 2.06-2.06.94zm10 10l.94 2.06.94-2.06 2.06-.94-2.06-.94-.94-2.06-.94 2.06-2.06.94z\"/><path d=\"M17.41 7.96l-1.37-1.37c-.4-.4-.92-.59-1.43-.59-.52 0-1.04.2-1.43.59L10.3 9.45l-7.72 7.72c-.78.78-.78 2.05 0 2.83L4 21.41c.39.39.9.59 1.41.59.51 0 1.02-.2 1.41-.59l7.78-7.78 2.81-2.81c.8-.78.8-2.07 0-2.86zM5.41 20L4 18.59l7.72-7.72 1.47 1.35L5.41 20z\"/>\n",
              "  </svg>\n",
              "      </button>\n",
              "      \n",
              "  <style>\n",
              "    .colab-df-container {\n",
              "      display:flex;\n",
              "      flex-wrap:wrap;\n",
              "      gap: 12px;\n",
              "    }\n",
              "\n",
              "    .colab-df-convert {\n",
              "      background-color: #E8F0FE;\n",
              "      border: none;\n",
              "      border-radius: 50%;\n",
              "      cursor: pointer;\n",
              "      display: none;\n",
              "      fill: #1967D2;\n",
              "      height: 32px;\n",
              "      padding: 0 0 0 0;\n",
              "      width: 32px;\n",
              "    }\n",
              "\n",
              "    .colab-df-convert:hover {\n",
              "      background-color: #E2EBFA;\n",
              "      box-shadow: 0px 1px 2px rgba(60, 64, 67, 0.3), 0px 1px 3px 1px rgba(60, 64, 67, 0.15);\n",
              "      fill: #174EA6;\n",
              "    }\n",
              "\n",
              "    [theme=dark] .colab-df-convert {\n",
              "      background-color: #3B4455;\n",
              "      fill: #D2E3FC;\n",
              "    }\n",
              "\n",
              "    [theme=dark] .colab-df-convert:hover {\n",
              "      background-color: #434B5C;\n",
              "      box-shadow: 0px 1px 3px 1px rgba(0, 0, 0, 0.15);\n",
              "      filter: drop-shadow(0px 1px 2px rgba(0, 0, 0, 0.3));\n",
              "      fill: #FFFFFF;\n",
              "    }\n",
              "  </style>\n",
              "\n",
              "      <script>\n",
              "        const buttonEl =\n",
              "          document.querySelector('#df-ceed5347-2458-4a05-8a8a-e9f8fd1c6668 button.colab-df-convert');\n",
              "        buttonEl.style.display =\n",
              "          google.colab.kernel.accessAllowed ? 'block' : 'none';\n",
              "\n",
              "        async function convertToInteractive(key) {\n",
              "          const element = document.querySelector('#df-ceed5347-2458-4a05-8a8a-e9f8fd1c6668');\n",
              "          const dataTable =\n",
              "            await google.colab.kernel.invokeFunction('convertToInteractive',\n",
              "                                                     [key], {});\n",
              "          if (!dataTable) return;\n",
              "\n",
              "          const docLinkHtml = 'Like what you see? Visit the ' +\n",
              "            '<a target=\"_blank\" href=https://colab.research.google.com/notebooks/data_table.ipynb>data table notebook</a>'\n",
              "            + ' to learn more about interactive tables.';\n",
              "          element.innerHTML = '';\n",
              "          dataTable['output_type'] = 'display_data';\n",
              "          await google.colab.output.renderOutput(dataTable, element);\n",
              "          const docLink = document.createElement('div');\n",
              "          docLink.innerHTML = docLinkHtml;\n",
              "          element.appendChild(docLink);\n",
              "        }\n",
              "      </script>\n",
              "    </div>\n",
              "  </div>\n",
              "  "
            ]
          },
          "metadata": {},
          "execution_count": 46
        }
      ]
    },
    {
      "cell_type": "markdown",
      "source": [
        "The latitude and the longitude are (53.269,-9.048) and corresponds to the Galway Port."
      ],
      "metadata": {
        "id": "wXlGJ1-b23o1"
      }
    },
    {
      "cell_type": "markdown",
      "source": [
        "Answering the question *2.a. Which usually month it occurs?* \n",
        "There is only one possible month for the biggest water level considering one year, which is December as we can see in the row above. "
      ],
      "metadata": {
        "id": "3_5QxwSc2dm9"
      }
    },
    {
      "cell_type": "markdown",
      "source": [
        "Let's go to the third question!"
      ],
      "metadata": {
        "id": "lchMgI-dhT9e"
      }
    },
    {
      "cell_type": "markdown",
      "source": [
        "### 3. How the Wave Lenghts correlates with Sea Temperature?\n"
      ],
      "metadata": {
        "id": "TgYIBpbb37-b"
      }
    },
    {
      "cell_type": "markdown",
      "source": [
        "After checking both sets available, there is no direct measure of wave length. For this analysis I assume **Wave Lenght** is related to the **Significant Wave Height** and **Maximum Wave Height** from the **Waves** dataset. \n",
        "\n",
        "Let's explore **Significant Wave Height**, **Sea Temperature** and **Maximum Wave Height**:"
      ],
      "metadata": {
        "id": "7uGGS6aby8Z3"
      }
    },
    {
      "cell_type": "code",
      "source": [
        "wave_temp = pd.DataFrame({ 'SigWaveHeight': dfs_concat_wave['SignificantWaveHeight'] , 'Temp' : dfs_concat_wave['SeaTemperature'], 'MaxWave' : dfs_concat_wave['Hmax']  })\n",
        "wave_temp"
      ],
      "metadata": {
        "id": "lTJoTlZ7lX6_",
        "colab": {
          "base_uri": "https://localhost:8080/",
          "height": 424
        },
        "outputId": "0283b1e1-f423-40e6-c9d7-96541ccef12c"
      },
      "execution_count": 68,
      "outputs": [
        {
          "output_type": "execute_result",
          "data": {
            "text/plain": [
              "       SigWaveHeight   Temp MaxWave\n",
              "1               85.0  13.30     NaN\n",
              "2               86.0  13.30     NaN\n",
              "3               84.0  13.25     NaN\n",
              "4               80.0  13.25     NaN\n",
              "5               74.0  13.20     NaN\n",
              "...              ...    ...     ...\n",
              "249803         112.0  15.20     NaN\n",
              "249804         123.0  15.20     NaN\n",
              "249805         123.0  15.20     NaN\n",
              "249806         140.0  15.20     NaN\n",
              "249807         140.0  15.20     NaN\n",
              "\n",
              "[249802 rows x 3 columns]"
            ],
            "text/html": [
              "\n",
              "  <div id=\"df-dd0dfb16-42e1-4964-83f7-000466bce192\">\n",
              "    <div class=\"colab-df-container\">\n",
              "      <div>\n",
              "<style scoped>\n",
              "    .dataframe tbody tr th:only-of-type {\n",
              "        vertical-align: middle;\n",
              "    }\n",
              "\n",
              "    .dataframe tbody tr th {\n",
              "        vertical-align: top;\n",
              "    }\n",
              "\n",
              "    .dataframe thead th {\n",
              "        text-align: right;\n",
              "    }\n",
              "</style>\n",
              "<table border=\"1\" class=\"dataframe\">\n",
              "  <thead>\n",
              "    <tr style=\"text-align: right;\">\n",
              "      <th></th>\n",
              "      <th>SigWaveHeight</th>\n",
              "      <th>Temp</th>\n",
              "      <th>MaxWave</th>\n",
              "    </tr>\n",
              "  </thead>\n",
              "  <tbody>\n",
              "    <tr>\n",
              "      <th>1</th>\n",
              "      <td>85.0</td>\n",
              "      <td>13.30</td>\n",
              "      <td>NaN</td>\n",
              "    </tr>\n",
              "    <tr>\n",
              "      <th>2</th>\n",
              "      <td>86.0</td>\n",
              "      <td>13.30</td>\n",
              "      <td>NaN</td>\n",
              "    </tr>\n",
              "    <tr>\n",
              "      <th>3</th>\n",
              "      <td>84.0</td>\n",
              "      <td>13.25</td>\n",
              "      <td>NaN</td>\n",
              "    </tr>\n",
              "    <tr>\n",
              "      <th>4</th>\n",
              "      <td>80.0</td>\n",
              "      <td>13.25</td>\n",
              "      <td>NaN</td>\n",
              "    </tr>\n",
              "    <tr>\n",
              "      <th>5</th>\n",
              "      <td>74.0</td>\n",
              "      <td>13.20</td>\n",
              "      <td>NaN</td>\n",
              "    </tr>\n",
              "    <tr>\n",
              "      <th>...</th>\n",
              "      <td>...</td>\n",
              "      <td>...</td>\n",
              "      <td>...</td>\n",
              "    </tr>\n",
              "    <tr>\n",
              "      <th>249803</th>\n",
              "      <td>112.0</td>\n",
              "      <td>15.20</td>\n",
              "      <td>NaN</td>\n",
              "    </tr>\n",
              "    <tr>\n",
              "      <th>249804</th>\n",
              "      <td>123.0</td>\n",
              "      <td>15.20</td>\n",
              "      <td>NaN</td>\n",
              "    </tr>\n",
              "    <tr>\n",
              "      <th>249805</th>\n",
              "      <td>123.0</td>\n",
              "      <td>15.20</td>\n",
              "      <td>NaN</td>\n",
              "    </tr>\n",
              "    <tr>\n",
              "      <th>249806</th>\n",
              "      <td>140.0</td>\n",
              "      <td>15.20</td>\n",
              "      <td>NaN</td>\n",
              "    </tr>\n",
              "    <tr>\n",
              "      <th>249807</th>\n",
              "      <td>140.0</td>\n",
              "      <td>15.20</td>\n",
              "      <td>NaN</td>\n",
              "    </tr>\n",
              "  </tbody>\n",
              "</table>\n",
              "<p>249802 rows × 3 columns</p>\n",
              "</div>\n",
              "      <button class=\"colab-df-convert\" onclick=\"convertToInteractive('df-dd0dfb16-42e1-4964-83f7-000466bce192')\"\n",
              "              title=\"Convert this dataframe to an interactive table.\"\n",
              "              style=\"display:none;\">\n",
              "        \n",
              "  <svg xmlns=\"http://www.w3.org/2000/svg\" height=\"24px\"viewBox=\"0 0 24 24\"\n",
              "       width=\"24px\">\n",
              "    <path d=\"M0 0h24v24H0V0z\" fill=\"none\"/>\n",
              "    <path d=\"M18.56 5.44l.94 2.06.94-2.06 2.06-.94-2.06-.94-.94-2.06-.94 2.06-2.06.94zm-11 1L8.5 8.5l.94-2.06 2.06-.94-2.06-.94L8.5 2.5l-.94 2.06-2.06.94zm10 10l.94 2.06.94-2.06 2.06-.94-2.06-.94-.94-2.06-.94 2.06-2.06.94z\"/><path d=\"M17.41 7.96l-1.37-1.37c-.4-.4-.92-.59-1.43-.59-.52 0-1.04.2-1.43.59L10.3 9.45l-7.72 7.72c-.78.78-.78 2.05 0 2.83L4 21.41c.39.39.9.59 1.41.59.51 0 1.02-.2 1.41-.59l7.78-7.78 2.81-2.81c.8-.78.8-2.07 0-2.86zM5.41 20L4 18.59l7.72-7.72 1.47 1.35L5.41 20z\"/>\n",
              "  </svg>\n",
              "      </button>\n",
              "      \n",
              "  <style>\n",
              "    .colab-df-container {\n",
              "      display:flex;\n",
              "      flex-wrap:wrap;\n",
              "      gap: 12px;\n",
              "    }\n",
              "\n",
              "    .colab-df-convert {\n",
              "      background-color: #E8F0FE;\n",
              "      border: none;\n",
              "      border-radius: 50%;\n",
              "      cursor: pointer;\n",
              "      display: none;\n",
              "      fill: #1967D2;\n",
              "      height: 32px;\n",
              "      padding: 0 0 0 0;\n",
              "      width: 32px;\n",
              "    }\n",
              "\n",
              "    .colab-df-convert:hover {\n",
              "      background-color: #E2EBFA;\n",
              "      box-shadow: 0px 1px 2px rgba(60, 64, 67, 0.3), 0px 1px 3px 1px rgba(60, 64, 67, 0.15);\n",
              "      fill: #174EA6;\n",
              "    }\n",
              "\n",
              "    [theme=dark] .colab-df-convert {\n",
              "      background-color: #3B4455;\n",
              "      fill: #D2E3FC;\n",
              "    }\n",
              "\n",
              "    [theme=dark] .colab-df-convert:hover {\n",
              "      background-color: #434B5C;\n",
              "      box-shadow: 0px 1px 3px 1px rgba(0, 0, 0, 0.15);\n",
              "      filter: drop-shadow(0px 1px 2px rgba(0, 0, 0, 0.3));\n",
              "      fill: #FFFFFF;\n",
              "    }\n",
              "  </style>\n",
              "\n",
              "      <script>\n",
              "        const buttonEl =\n",
              "          document.querySelector('#df-dd0dfb16-42e1-4964-83f7-000466bce192 button.colab-df-convert');\n",
              "        buttonEl.style.display =\n",
              "          google.colab.kernel.accessAllowed ? 'block' : 'none';\n",
              "\n",
              "        async function convertToInteractive(key) {\n",
              "          const element = document.querySelector('#df-dd0dfb16-42e1-4964-83f7-000466bce192');\n",
              "          const dataTable =\n",
              "            await google.colab.kernel.invokeFunction('convertToInteractive',\n",
              "                                                     [key], {});\n",
              "          if (!dataTable) return;\n",
              "\n",
              "          const docLinkHtml = 'Like what you see? Visit the ' +\n",
              "            '<a target=\"_blank\" href=https://colab.research.google.com/notebooks/data_table.ipynb>data table notebook</a>'\n",
              "            + ' to learn more about interactive tables.';\n",
              "          element.innerHTML = '';\n",
              "          dataTable['output_type'] = 'display_data';\n",
              "          await google.colab.output.renderOutput(dataTable, element);\n",
              "          const docLink = document.createElement('div');\n",
              "          docLink.innerHTML = docLinkHtml;\n",
              "          element.appendChild(docLink);\n",
              "        }\n",
              "      </script>\n",
              "    </div>\n",
              "  </div>\n",
              "  "
            ]
          },
          "metadata": {},
          "execution_count": 68
        }
      ]
    },
    {
      "cell_type": "markdown",
      "source": [
        "We can see above that we have a lot of NaN values, we shoud remove them for our analysis, as follows:"
      ],
      "metadata": {
        "id": "tiuIGyDdnIMs"
      }
    },
    {
      "cell_type": "code",
      "source": [
        "wave_temp = wave_temp.dropna()\n",
        "wave_temp.info()\n"
      ],
      "metadata": {
        "colab": {
          "base_uri": "https://localhost:8080/"
        },
        "id": "4BSaqSkuAE1W",
        "outputId": "f6f1cb35-3b5e-4267-822f-20f1a15efca0"
      },
      "execution_count": 49,
      "outputs": [
        {
          "output_type": "stream",
          "name": "stdout",
          "text": [
            "<class 'pandas.core.frame.DataFrame'>\n",
            "Int64Index: 34449 entries, 8107 to 233320\n",
            "Data columns (total 3 columns):\n",
            " #   Column         Non-Null Count  Dtype  \n",
            "---  ------         --------------  -----  \n",
            " 0   SigWaveHeight  34449 non-null  object \n",
            " 1   Temp           34449 non-null  float64\n",
            " 2   MaxWave        34449 non-null  object \n",
            "dtypes: float64(1), object(2)\n",
            "memory usage: 1.1+ MB\n"
          ]
        }
      ]
    },
    {
      "cell_type": "markdown",
      "source": [
        "Ok, we notice that there are 34.449 non-null values, 2 objects and 1 float data types."
      ],
      "metadata": {
        "id": "7IeZ2NPJmwEL"
      }
    },
    {
      "cell_type": "markdown",
      "source": [
        "We need to transform both objects into float data type as we did with SeaTemperature."
      ],
      "metadata": {
        "id": "jHTFwnmS6z0K"
      }
    },
    {
      "cell_type": "code",
      "source": [
        "wave_temp['SigWaveHeight'] = wave_temp['SigWaveHeight'].astype(float)\n",
        "wave_temp['MaxWave'] = wave_temp['MaxWave'].astype(float)"
      ],
      "metadata": {
        "colab": {
          "base_uri": "https://localhost:8080/"
        },
        "id": "lvFMBJP8Af2T",
        "outputId": "249caac9-0334-46fa-823b-8d5b4c09de26"
      },
      "execution_count": 50,
      "outputs": [
        {
          "output_type": "stream",
          "name": "stderr",
          "text": [
            "/usr/local/lib/python3.7/dist-packages/ipykernel_launcher.py:1: SettingWithCopyWarning: \n",
            "A value is trying to be set on a copy of a slice from a DataFrame.\n",
            "Try using .loc[row_indexer,col_indexer] = value instead\n",
            "\n",
            "See the caveats in the documentation: https://pandas.pydata.org/pandas-docs/stable/user_guide/indexing.html#returning-a-view-versus-a-copy\n",
            "  \"\"\"Entry point for launching an IPython kernel.\n",
            "/usr/local/lib/python3.7/dist-packages/ipykernel_launcher.py:2: SettingWithCopyWarning: \n",
            "A value is trying to be set on a copy of a slice from a DataFrame.\n",
            "Try using .loc[row_indexer,col_indexer] = value instead\n",
            "\n",
            "See the caveats in the documentation: https://pandas.pydata.org/pandas-docs/stable/user_guide/indexing.html#returning-a-view-versus-a-copy\n",
            "  \n"
          ]
        }
      ]
    },
    {
      "cell_type": "code",
      "source": [
        "wave_temp.info() "
      ],
      "metadata": {
        "colab": {
          "base_uri": "https://localhost:8080/"
        },
        "id": "HqfJtpVEC_9Z",
        "outputId": "8377bf7c-1be1-4935-a764-aeca0ceca093"
      },
      "execution_count": 51,
      "outputs": [
        {
          "output_type": "stream",
          "name": "stdout",
          "text": [
            "<class 'pandas.core.frame.DataFrame'>\n",
            "Int64Index: 34449 entries, 8107 to 233320\n",
            "Data columns (total 3 columns):\n",
            " #   Column         Non-Null Count  Dtype  \n",
            "---  ------         --------------  -----  \n",
            " 0   SigWaveHeight  34449 non-null  float64\n",
            " 1   Temp           34449 non-null  float64\n",
            " 2   MaxWave        34449 non-null  float64\n",
            "dtypes: float64(3)\n",
            "memory usage: 1.1 MB\n"
          ]
        }
      ]
    },
    {
      "cell_type": "markdown",
      "source": [
        "Great! Now we have all collumns in float data type, so all entries are valid!"
      ],
      "metadata": {
        "id": "SU-l-Y5-DD5B"
      }
    },
    {
      "cell_type": "markdown",
      "source": [
        "In oder to obtain insight about the correlation between wave lenght and sea temperature let's plot them together.\n"
      ],
      "metadata": {
        "id": "SFrzckrWnlx4"
      }
    },
    {
      "cell_type": "code",
      "source": [
        "import seaborn as sns \n",
        "plt.figure(figsize=(10,5))\n",
        "plt.title('Significant Wave Height & Temperature')\n",
        "plt.ylabel('Significant Wave Height')\n",
        "plt.xlabel('Sea Temperature')\n",
        "sns.scatterplot(wave_temp['Temp'],wave_temp['SigWaveHeight'])\n",
        "plt.show()\n"
      ],
      "metadata": {
        "colab": {
          "base_uri": "https://localhost:8080/",
          "height": 405
        },
        "id": "DmMN4hYo9hs1",
        "outputId": "3a5987a6-10c1-4e5a-cceb-cde3a45057b4"
      },
      "execution_count": 37,
      "outputs": [
        {
          "output_type": "stream",
          "name": "stderr",
          "text": [
            "/usr/local/lib/python3.7/dist-packages/seaborn/_decorators.py:43: FutureWarning: Pass the following variables as keyword args: x, y. From version 0.12, the only valid positional argument will be `data`, and passing other arguments without an explicit keyword will result in an error or misinterpretation.\n",
            "  FutureWarning\n"
          ]
        },
        {
          "output_type": "display_data",
          "data": {
            "text/plain": [
              "<Figure size 720x360 with 1 Axes>"
            ],
            "image/png": "[encoded data removed]"
          },
          "metadata": {
            "needs_background": "light"
          }
        }
      ]
    },
    {
      "cell_type": "markdown",
      "source": [
        "We can see that there is no visible pattern that we can affirm that both variables are **linear** correlated. We can see in the scatter plot that the most significant wave height are concentrated around 10°C degree and then it decreases as the sea temperature increases."
      ],
      "metadata": {
        "id": "acnCsiWzqK9x"
      }
    },
    {
      "cell_type": "markdown",
      "source": [
        "A scatterplot displays the strength, direction, and form of the relationship between two quantitative variables. We are considering for this the Significant Wave Height and the Sea Temperature variables. \n",
        "\n",
        "A correlation coefficient measures the strength of that relationship. Let's calculate a Pearson correlation coefficient for the variables:"
      ],
      "metadata": {
        "id": "D8Xd7BxDjA9p"
      }
    },
    {
      "cell_type": "code",
      "source": [
        "wave_temp.corr()"
      ],
      "metadata": {
        "colab": {
          "base_uri": "https://localhost:8080/",
          "height": 143
        },
        "id": "jE-dcxh56-yg",
        "outputId": "94011d26-db41-4cae-acf6-be97108d47e4"
      },
      "execution_count": 52,
      "outputs": [
        {
          "output_type": "execute_result",
          "data": {
            "text/plain": [
              "               SigWaveHeight      Temp   MaxWave\n",
              "SigWaveHeight       1.000000 -0.282879  0.988094\n",
              "Temp               -0.282879  1.000000 -0.278851\n",
              "MaxWave             0.988094 -0.278851  1.000000"
            ],
            "text/html": [
              "\n",
              "  <div id=\"df-0de59b09-4832-4b83-8a5a-f25b5f58c281\">\n",
              "    <div class=\"colab-df-container\">\n",
              "      <div>\n",
              "<style scoped>\n",
              "    .dataframe tbody tr th:only-of-type {\n",
              "        vertical-align: middle;\n",
              "    }\n",
              "\n",
              "    .dataframe tbody tr th {\n",
              "        vertical-align: top;\n",
              "    }\n",
              "\n",
              "    .dataframe thead th {\n",
              "        text-align: right;\n",
              "    }\n",
              "</style>\n",
              "<table border=\"1\" class=\"dataframe\">\n",
              "  <thead>\n",
              "    <tr style=\"text-align: right;\">\n",
              "      <th></th>\n",
              "      <th>SigWaveHeight</th>\n",
              "      <th>Temp</th>\n",
              "      <th>MaxWave</th>\n",
              "    </tr>\n",
              "  </thead>\n",
              "  <tbody>\n",
              "    <tr>\n",
              "      <th>SigWaveHeight</th>\n",
              "      <td>1.000000</td>\n",
              "      <td>-0.282879</td>\n",
              "      <td>0.988094</td>\n",
              "    </tr>\n",
              "    <tr>\n",
              "      <th>Temp</th>\n",
              "      <td>-0.282879</td>\n",
              "      <td>1.000000</td>\n",
              "      <td>-0.278851</td>\n",
              "    </tr>\n",
              "    <tr>\n",
              "      <th>MaxWave</th>\n",
              "      <td>0.988094</td>\n",
              "      <td>-0.278851</td>\n",
              "      <td>1.000000</td>\n",
              "    </tr>\n",
              "  </tbody>\n",
              "</table>\n",
              "</div>\n",
              "      <button class=\"colab-df-convert\" onclick=\"convertToInteractive('df-0de59b09-4832-4b83-8a5a-f25b5f58c281')\"\n",
              "              title=\"Convert this dataframe to an interactive table.\"\n",
              "              style=\"display:none;\">\n",
              "        \n",
              "  <svg xmlns=\"http://www.w3.org/2000/svg\" height=\"24px\"viewBox=\"0 0 24 24\"\n",
              "       width=\"24px\">\n",
              "    <path d=\"M0 0h24v24H0V0z\" fill=\"none\"/>\n",
              "    <path d=\"M18.56 5.44l.94 2.06.94-2.06 2.06-.94-2.06-.94-.94-2.06-.94 2.06-2.06.94zm-11 1L8.5 8.5l.94-2.06 2.06-.94-2.06-.94L8.5 2.5l-.94 2.06-2.06.94zm10 10l.94 2.06.94-2.06 2.06-.94-2.06-.94-.94-2.06-.94 2.06-2.06.94z\"/><path d=\"M17.41 7.96l-1.37-1.37c-.4-.4-.92-.59-1.43-.59-.52 0-1.04.2-1.43.59L10.3 9.45l-7.72 7.72c-.78.78-.78 2.05 0 2.83L4 21.41c.39.39.9.59 1.41.59.51 0 1.02-.2 1.41-.59l7.78-7.78 2.81-2.81c.8-.78.8-2.07 0-2.86zM5.41 20L4 18.59l7.72-7.72 1.47 1.35L5.41 20z\"/>\n",
              "  </svg>\n",
              "      </button>\n",
              "      \n",
              "  <style>\n",
              "    .colab-df-container {\n",
              "      display:flex;\n",
              "      flex-wrap:wrap;\n",
              "      gap: 12px;\n",
              "    }\n",
              "\n",
              "    .colab-df-convert {\n",
              "      background-color: #E8F0FE;\n",
              "      border: none;\n",
              "      border-radius: 50%;\n",
              "      cursor: pointer;\n",
              "      display: none;\n",
              "      fill: #1967D2;\n",
              "      height: 32px;\n",
              "      padding: 0 0 0 0;\n",
              "      width: 32px;\n",
              "    }\n",
              "\n",
              "    .colab-df-convert:hover {\n",
              "      background-color: #E2EBFA;\n",
              "      box-shadow: 0px 1px 2px rgba(60, 64, 67, 0.3), 0px 1px 3px 1px rgba(60, 64, 67, 0.15);\n",
              "      fill: #174EA6;\n",
              "    }\n",
              "\n",
              "    [theme=dark] .colab-df-convert {\n",
              "      background-color: #3B4455;\n",
              "      fill: #D2E3FC;\n",
              "    }\n",
              "\n",
              "    [theme=dark] .colab-df-convert:hover {\n",
              "      background-color: #434B5C;\n",
              "      box-shadow: 0px 1px 3px 1px rgba(0, 0, 0, 0.15);\n",
              "      filter: drop-shadow(0px 1px 2px rgba(0, 0, 0, 0.3));\n",
              "      fill: #FFFFFF;\n",
              "    }\n",
              "  </style>\n",
              "\n",
              "      <script>\n",
              "        const buttonEl =\n",
              "          document.querySelector('#df-0de59b09-4832-4b83-8a5a-f25b5f58c281 button.colab-df-convert');\n",
              "        buttonEl.style.display =\n",
              "          google.colab.kernel.accessAllowed ? 'block' : 'none';\n",
              "\n",
              "        async function convertToInteractive(key) {\n",
              "          const element = document.querySelector('#df-0de59b09-4832-4b83-8a5a-f25b5f58c281');\n",
              "          const dataTable =\n",
              "            await google.colab.kernel.invokeFunction('convertToInteractive',\n",
              "                                                     [key], {});\n",
              "          if (!dataTable) return;\n",
              "\n",
              "          const docLinkHtml = 'Like what you see? Visit the ' +\n",
              "            '<a target=\"_blank\" href=https://colab.research.google.com/notebooks/data_table.ipynb>data table notebook</a>'\n",
              "            + ' to learn more about interactive tables.';\n",
              "          element.innerHTML = '';\n",
              "          dataTable['output_type'] = 'display_data';\n",
              "          await google.colab.output.renderOutput(dataTable, element);\n",
              "          const docLink = document.createElement('div');\n",
              "          docLink.innerHTML = docLinkHtml;\n",
              "          element.appendChild(docLink);\n",
              "        }\n",
              "      </script>\n",
              "    </div>\n",
              "  </div>\n",
              "  "
            ]
          },
          "metadata": {},
          "execution_count": 52
        }
      ]
    },
    {
      "cell_type": "markdown",
      "source": [
        "The correlation between Significant Wave Height and Temperature is -0.28 for Maximum Wave Height and Temperature is -0.27.\n"
      ],
      "metadata": {
        "id": "0G5W78raoDXA"
      }
    },
    {
      "cell_type": "markdown",
      "source": [
        "We can see that both correlations returned a low coeficient between the wave lenght and sea temperature, as we expected. Considering the scatter plot we can assume that they are not linear correlated."
      ],
      "metadata": {
        "id": "m6oDpqT3ol2O"
      }
    },
    {
      "cell_type": "markdown",
      "source": [
        "Let's go to the next question!"
      ],
      "metadata": {
        "id": "84Fe0w_anAwx"
      }
    },
    {
      "cell_type": "markdown",
      "source": [
        "### 3.a. It is possible to predict with accuracy the Wave Lenght, based on the Sea Temperature and the Bouy location?"
      ],
      "metadata": {
        "id": "SD4XbIArsO1D"
      }
    },
    {
      "cell_type": "markdown",
      "source": [
        "Let's explore the variables to shed light on this question."
      ],
      "metadata": {
        "id": "HZUOWR57n77U"
      }
    },
    {
      "cell_type": "code",
      "source": [
        "wave_length = pd.DataFrame({ 'SigWaveHeight': dfs_concat_wave['SignificantWaveHeight'] , 'Temp' : dfs_concat_wave['SeaTemperature'], 'Latitude' : dfs_concat_wave['latitude'], 'Longitude' : dfs_concat_wave['longitude']  })"
      ],
      "metadata": {
        "id": "KL6wg5LkCM9v"
      },
      "execution_count": 187,
      "outputs": []
    },
    {
      "cell_type": "code",
      "source": [
        "wave_length.info()"
      ],
      "metadata": {
        "colab": {
          "base_uri": "https://localhost:8080/"
        },
        "id": "RFgTOludVDs6",
        "outputId": "d3bfca87-eebd-46d5-cb5e-f3a8cf2c3b39"
      },
      "execution_count": 188,
      "outputs": [
        {
          "output_type": "stream",
          "name": "stdout",
          "text": [
            "<class 'pandas.core.frame.DataFrame'>\n",
            "Int64Index: 249802 entries, 1 to 249807\n",
            "Data columns (total 4 columns):\n",
            " #   Column         Non-Null Count   Dtype  \n",
            "---  ------         --------------   -----  \n",
            " 0   SigWaveHeight  77375 non-null   object \n",
            " 1   Temp           249802 non-null  float64\n",
            " 2   Latitude       249802 non-null  object \n",
            " 3   Longitude      249802 non-null  object \n",
            "dtypes: float64(1), object(3)\n",
            "memory usage: 17.6+ MB\n"
          ]
        }
      ]
    },
    {
      "cell_type": "markdown",
      "source": [
        "Let's transform the object to float data type and remove all null values:"
      ],
      "metadata": {
        "id": "Ep1e_xrvVKPE"
      }
    },
    {
      "cell_type": "code",
      "source": [
        "wave_length['Latitude'] = wave_length['Latitude'].astype(float)\n",
        "wave_length['SigWaveHeight'] = wave_length['SigWaveHeight'].astype(float)\n",
        "wave_length['Longitude'] = wave_length['Longitude'].astype(float)\n",
        "wave_length = wave_length.dropna()"
      ],
      "metadata": {
        "id": "mHpJHJf0Ch0O"
      },
      "execution_count": 189,
      "outputs": []
    },
    {
      "cell_type": "code",
      "source": [
        "wave_length.info()"
      ],
      "metadata": {
        "colab": {
          "base_uri": "https://localhost:8080/"
        },
        "id": "mXg0thENU2sE",
        "outputId": "5cd747fa-58fb-4c44-8bae-8b6fffd77a17"
      },
      "execution_count": 190,
      "outputs": [
        {
          "output_type": "stream",
          "name": "stdout",
          "text": [
            "<class 'pandas.core.frame.DataFrame'>\n",
            "Int64Index: 77375 entries, 1 to 249807\n",
            "Data columns (total 4 columns):\n",
            " #   Column         Non-Null Count  Dtype  \n",
            "---  ------         --------------  -----  \n",
            " 0   SigWaveHeight  77375 non-null  float64\n",
            " 1   Temp           77375 non-null  float64\n",
            " 2   Latitude       77375 non-null  float64\n",
            " 3   Longitude      77375 non-null  float64\n",
            "dtypes: float64(4)\n",
            "memory usage: 3.0 MB\n"
          ]
        }
      ]
    },
    {
      "cell_type": "markdown",
      "source": [
        "Let's plot the distribution for Wave Lenght, which we are considering as Significant Wave Height variable. And also the Sea Temperature distribution."
      ],
      "metadata": {
        "id": "pQyRPmlinIyd"
      }
    },
    {
      "cell_type": "code",
      "source": [
        "plt.figure(figsize=(10,5))\n",
        "plt.xlim(0,1500)\n",
        "plt.xlabel('Significant Wave Height')\n",
        "plt.ylabel('Frequency')\n",
        "sns.histplot(wave_length['SigWaveHeight'],bins=100)\n",
        "plt.show()"
      ],
      "metadata": {
        "colab": {
          "base_uri": "https://localhost:8080/",
          "height": 334
        },
        "id": "VgIVDsGlAYTu",
        "outputId": "dfe45b1f-4723-4b08-a294-d95d42ab25d0"
      },
      "execution_count": 262,
      "outputs": [
        {
          "output_type": "display_data",
          "data": {
            "text/plain": [
              "<Figure size 720x360 with 1 Axes>"
            ],
            "image/png": "[encoded data removed]"
          },
          "metadata": {
            "needs_background": "light"
          }
        }
      ]
    },
    {
      "cell_type": "code",
      "source": [
        "plt.figure(figsize=(10,5))\n",
        "plt.xlim(0,30)\n",
        "plt.xlabel('Sea Temperature')\n",
        "plt.ylabel('Frequency')\n",
        "sns.histplot(wave_temp['Temp'],bins=100)\n",
        "plt.show()"
      ],
      "metadata": {
        "colab": {
          "base_uri": "https://localhost:8080/",
          "height": 335
        },
        "id": "UNkfX3o2_SwF",
        "outputId": "6b7a9739-b07e-4053-a430-97d6d0d79d15"
      },
      "execution_count": 263,
      "outputs": [
        {
          "output_type": "display_data",
          "data": {
            "text/plain": [
              "<Figure size 720x360 with 1 Axes>"
            ],
            "image/png": "[encoded data removed]"
          },
          "metadata": {
            "needs_background": "light"
          }
        }
      ]
    },
    {
      "cell_type": "markdown",
      "source": [
        "\n",
        "The histogram gives us a good overview of the data. At a glance, we can see that both data clearly are not normally distributed. The Sea Temperature is left skewed. The peak is around 10°C degree for Sea Temperature. \n",
        "The Significant Wave Heigth distribution is also not normal and left skewed and extends further into the lower values than to the higher values. "
      ],
      "metadata": {
        "id": "_yK-I1iSCJep"
      }
    },
    {
      "cell_type": "markdown",
      "source": [
        "To explore a little further the data distribution, let's see the boxplot for SigWaveHeight variable:"
      ],
      "metadata": {
        "id": "csqnbJbZb3na"
      }
    },
    {
      "cell_type": "code",
      "source": [
        "sns.boxplot(wave_length['SigWaveHeight'])"
      ],
      "metadata": {
        "colab": {
          "base_uri": "https://localhost:8080/",
          "height": 351
        },
        "id": "RG55sJjCbPj3",
        "outputId": "cb427933-4332-4d07-a415-5101bc2846d6"
      },
      "execution_count": 226,
      "outputs": [
        {
          "output_type": "stream",
          "name": "stderr",
          "text": [
            "/usr/local/lib/python3.7/dist-packages/seaborn/_decorators.py:43: FutureWarning: Pass the following variable as a keyword arg: x. From version 0.12, the only valid positional argument will be `data`, and passing other arguments without an explicit keyword will result in an error or misinterpretation.\n",
            "  FutureWarning\n"
          ]
        },
        {
          "output_type": "execute_result",
          "data": {
            "text/plain": [
              "<matplotlib.axes._subplots.AxesSubplot at 0x7f1d3a595c50>"
            ]
          },
          "metadata": {},
          "execution_count": 226
        },
        {
          "output_type": "display_data",
          "data": {
            "text/plain": [
              "<Figure size 432x288 with 1 Axes>"
            ],
            "image/png": "[encoded data removed]"
          },
          "metadata": {
            "needs_background": "light"
          }
        }
      ]
    },
    {
      "cell_type": "markdown",
      "source": [
        "Let's plot 3D scatter plot to gain more insight about the problem:"
      ],
      "metadata": {
        "id": "lqJjZBv-zYm0"
      }
    },
    {
      "cell_type": "code",
      "source": [
        "fig = plt.figure(figsize=(12,8))\n",
        "temp_labels = wave_length['Temp']\n",
        "\n",
        "ax = fig.add_subplot(111, projection='3d')\n",
        "#ax.scatter(xs = wave_length['Longitude'], ys = wave_length['Latitude'], zs = wave_length['SigWaveHeight'], c=temp_labels)\n",
        "ax.set_title(\"Significant Wave Height for each Buoy location and the Sea Temperature distribution\")\n",
        "ax.set_xlabel(\"Longitude\")\n",
        "ax.set_ylabel(\"Latitude\")\n",
        "ax.set_zlabel(\"Significant Wave Height\")\n",
        "scat_plot = ax.scatter(xs = wave_length['Longitude'], ys = wave_length['Latitude'], zs = wave_length['SigWaveHeight'], c=temp_labels)\n",
        "cb = plt.colorbar(scat_plot)\n",
        "\n",
        "plt.show()"
      ],
      "metadata": {
        "colab": {
          "base_uri": "https://localhost:8080/",
          "height": 466
        },
        "id": "sB8_YdIYp_Rp",
        "outputId": "986d4f53-3794-4791-a7a1-4224667e3857"
      },
      "execution_count": 195,
      "outputs": [
        {
          "output_type": "display_data",
          "data": {
            "text/plain": [
              "<Figure size 864x576 with 2 Axes>"
            ],
            "image/png": "[encoded data removed]"
          },
          "metadata": {
            "needs_background": "light"
          }
        }
      ]
    },
    {
      "cell_type": "markdown",
      "source": [
        "Considering there is a lot of outliers, let's remove then and normalize the data."
      ],
      "metadata": {
        "id": "K6HSr1RoaAeO"
      }
    },
    {
      "cell_type": "code",
      "source": [
        "out_wave_length = wave_length.copy()\n",
        "out_wave_length = out_wave_length[(np.abs(stats.zscore(out_wave_length['SigWaveHeight'])) < 3)]"
      ],
      "metadata": {
        "id": "kGAcySkwPpgv"
      },
      "execution_count": 228,
      "outputs": []
    },
    {
      "cell_type": "code",
      "source": [
        "wave_length.describe()"
      ],
      "metadata": {
        "colab": {
          "base_uri": "https://localhost:8080/",
          "height": 300
        },
        "id": "vNqDOghJdZcG",
        "outputId": "9defd5ac-c150-4d83-c1d1-4f120b0009aa"
      },
      "execution_count": 232,
      "outputs": [
        {
          "output_type": "execute_result",
          "data": {
            "text/plain": [
              "       SigWaveHeight          Temp      Latitude     Longitude\n",
              "count   77375.000000  77375.000000  77375.000000  77375.000000\n",
              "mean      184.637260     12.128287     53.331854     -9.918349\n",
              "std       162.059001      2.834004      1.033499      0.349141\n",
              "min         0.000000      4.510000     51.647000    -10.297370\n",
              "25%        68.000000      9.650000     52.282333    -10.150990\n",
              "50%       139.000000     11.850000     53.801353    -10.094833\n",
              "75%       250.000000     14.300000     54.225100     -9.681000\n",
              "max      1819.000000     22.180000     54.275300     -9.262278"
            ],
            "text/html": [
              "\n",
              "  <div id=\"df-e6c0bb9f-6a1e-4a98-aa56-5f58974e68b5\">\n",
              "    <div class=\"colab-df-container\">\n",
              "      <div>\n",
              "<style scoped>\n",
              "    .dataframe tbody tr th:only-of-type {\n",
              "        vertical-align: middle;\n",
              "    }\n",
              "\n",
              "    .dataframe tbody tr th {\n",
              "        vertical-align: top;\n",
              "    }\n",
              "\n",
              "    .dataframe thead th {\n",
              "        text-align: right;\n",
              "    }\n",
              "</style>\n",
              "<table border=\"1\" class=\"dataframe\">\n",
              "  <thead>\n",
              "    <tr style=\"text-align: right;\">\n",
              "      <th></th>\n",
              "      <th>SigWaveHeight</th>\n",
              "      <th>Temp</th>\n",
              "      <th>Latitude</th>\n",
              "      <th>Longitude</th>\n",
              "    </tr>\n",
              "  </thead>\n",
              "  <tbody>\n",
              "    <tr>\n",
              "      <th>count</th>\n",
              "      <td>77375.000000</td>\n",
              "      <td>77375.000000</td>\n",
              "      <td>77375.000000</td>\n",
              "      <td>77375.000000</td>\n",
              "    </tr>\n",
              "    <tr>\n",
              "      <th>mean</th>\n",
              "      <td>184.637260</td>\n",
              "      <td>12.128287</td>\n",
              "      <td>53.331854</td>\n",
              "      <td>-9.918349</td>\n",
              "    </tr>\n",
              "    <tr>\n",
              "      <th>std</th>\n",
              "      <td>162.059001</td>\n",
              "      <td>2.834004</td>\n",
              "      <td>1.033499</td>\n",
              "      <td>0.349141</td>\n",
              "    </tr>\n",
              "    <tr>\n",
              "      <th>min</th>\n",
              "      <td>0.000000</td>\n",
              "      <td>4.510000</td>\n",
              "      <td>51.647000</td>\n",
              "      <td>-10.297370</td>\n",
              "    </tr>\n",
              "    <tr>\n",
              "      <th>25%</th>\n",
              "      <td>68.000000</td>\n",
              "      <td>9.650000</td>\n",
              "      <td>52.282333</td>\n",
              "      <td>-10.150990</td>\n",
              "    </tr>\n",
              "    <tr>\n",
              "      <th>50%</th>\n",
              "      <td>139.000000</td>\n",
              "      <td>11.850000</td>\n",
              "      <td>53.801353</td>\n",
              "      <td>-10.094833</td>\n",
              "    </tr>\n",
              "    <tr>\n",
              "      <th>75%</th>\n",
              "      <td>250.000000</td>\n",
              "      <td>14.300000</td>\n",
              "      <td>54.225100</td>\n",
              "      <td>-9.681000</td>\n",
              "    </tr>\n",
              "    <tr>\n",
              "      <th>max</th>\n",
              "      <td>1819.000000</td>\n",
              "      <td>22.180000</td>\n",
              "      <td>54.275300</td>\n",
              "      <td>-9.262278</td>\n",
              "    </tr>\n",
              "  </tbody>\n",
              "</table>\n",
              "</div>\n",
              "      <button class=\"colab-df-convert\" onclick=\"convertToInteractive('df-e6c0bb9f-6a1e-4a98-aa56-5f58974e68b5')\"\n",
              "              title=\"Convert this dataframe to an interactive table.\"\n",
              "              style=\"display:none;\">\n",
              "        \n",
              "  <svg xmlns=\"http://www.w3.org/2000/svg\" height=\"24px\"viewBox=\"0 0 24 24\"\n",
              "       width=\"24px\">\n",
              "    <path d=\"M0 0h24v24H0V0z\" fill=\"none\"/>\n",
              "    <path d=\"M18.56 5.44l.94 2.06.94-2.06 2.06-.94-2.06-.94-.94-2.06-.94 2.06-2.06.94zm-11 1L8.5 8.5l.94-2.06 2.06-.94-2.06-.94L8.5 2.5l-.94 2.06-2.06.94zm10 10l.94 2.06.94-2.06 2.06-.94-2.06-.94-.94-2.06-.94 2.06-2.06.94z\"/><path d=\"M17.41 7.96l-1.37-1.37c-.4-.4-.92-.59-1.43-.59-.52 0-1.04.2-1.43.59L10.3 9.45l-7.72 7.72c-.78.78-.78 2.05 0 2.83L4 21.41c.39.39.9.59 1.41.59.51 0 1.02-.2 1.41-.59l7.78-7.78 2.81-2.81c.8-.78.8-2.07 0-2.86zM5.41 20L4 18.59l7.72-7.72 1.47 1.35L5.41 20z\"/>\n",
              "  </svg>\n",
              "      </button>\n",
              "      \n",
              "  <style>\n",
              "    .colab-df-container {\n",
              "      display:flex;\n",
              "      flex-wrap:wrap;\n",
              "      gap: 12px;\n",
              "    }\n",
              "\n",
              "    .colab-df-convert {\n",
              "      background-color: #E8F0FE;\n",
              "      border: none;\n",
              "      border-radius: 50%;\n",
              "      cursor: pointer;\n",
              "      display: none;\n",
              "      fill: #1967D2;\n",
              "      height: 32px;\n",
              "      padding: 0 0 0 0;\n",
              "      width: 32px;\n",
              "    }\n",
              "\n",
              "    .colab-df-convert:hover {\n",
              "      background-color: #E2EBFA;\n",
              "      box-shadow: 0px 1px 2px rgba(60, 64, 67, 0.3), 0px 1px 3px 1px rgba(60, 64, 67, 0.15);\n",
              "      fill: #174EA6;\n",
              "    }\n",
              "\n",
              "    [theme=dark] .colab-df-convert {\n",
              "      background-color: #3B4455;\n",
              "      fill: #D2E3FC;\n",
              "    }\n",
              "\n",
              "    [theme=dark] .colab-df-convert:hover {\n",
              "      background-color: #434B5C;\n",
              "      box-shadow: 0px 1px 3px 1px rgba(0, 0, 0, 0.15);\n",
              "      filter: drop-shadow(0px 1px 2px rgba(0, 0, 0, 0.3));\n",
              "      fill: #FFFFFF;\n",
              "    }\n",
              "  </style>\n",
              "\n",
              "      <script>\n",
              "        const buttonEl =\n",
              "          document.querySelector('#df-e6c0bb9f-6a1e-4a98-aa56-5f58974e68b5 button.colab-df-convert');\n",
              "        buttonEl.style.display =\n",
              "          google.colab.kernel.accessAllowed ? 'block' : 'none';\n",
              "\n",
              "        async function convertToInteractive(key) {\n",
              "          const element = document.querySelector('#df-e6c0bb9f-6a1e-4a98-aa56-5f58974e68b5');\n",
              "          const dataTable =\n",
              "            await google.colab.kernel.invokeFunction('convertToInteractive',\n",
              "                                                     [key], {});\n",
              "          if (!dataTable) return;\n",
              "\n",
              "          const docLinkHtml = 'Like what you see? Visit the ' +\n",
              "            '<a target=\"_blank\" href=https://colab.research.google.com/notebooks/data_table.ipynb>data table notebook</a>'\n",
              "            + ' to learn more about interactive tables.';\n",
              "          element.innerHTML = '';\n",
              "          dataTable['output_type'] = 'display_data';\n",
              "          await google.colab.output.renderOutput(dataTable, element);\n",
              "          const docLink = document.createElement('div');\n",
              "          docLink.innerHTML = docLinkHtml;\n",
              "          element.appendChild(docLink);\n",
              "        }\n",
              "      </script>\n",
              "    </div>\n",
              "  </div>\n",
              "  "
            ]
          },
          "metadata": {},
          "execution_count": 232
        }
      ]
    },
    {
      "cell_type": "markdown",
      "source": [
        "The maximum value for SigWaveHeight was 1819 and now is 670."
      ],
      "metadata": {
        "id": "qo88yvUiW51q"
      }
    },
    {
      "cell_type": "code",
      "source": [
        "out_wave_length.describe()"
      ],
      "metadata": {
        "colab": {
          "base_uri": "https://localhost:8080/",
          "height": 300
        },
        "id": "p4A-dQ3oWWt0",
        "outputId": "65eb4ecb-7116-436e-a13d-692702836858"
      },
      "execution_count": 229,
      "outputs": [
        {
          "output_type": "execute_result",
          "data": {
            "text/plain": [
              "       SigWaveHeight          Temp      Latitude     Longitude\n",
              "count   76026.000000  76026.000000  76026.000000  76026.000000\n",
              "mean      173.357259     12.164791     53.315428     -9.912542\n",
              "std       138.002325      2.843380      1.035175      0.349344\n",
              "min         0.000000      4.510000     51.647000    -10.297370\n",
              "25%        67.000000      9.650000     52.282333    -10.150990\n",
              "50%       136.000000     11.940000     53.801353    -10.094833\n",
              "75%       241.000000     14.350000     54.225100     -9.681000\n",
              "max       670.000000     22.180000     54.275300     -9.262278"
            ],
            "text/html": [
              "\n",
              "  <div id=\"df-06927f37-0593-4da0-b9d5-cc5f0b351e63\">\n",
              "    <div class=\"colab-df-container\">\n",
              "      <div>\n",
              "<style scoped>\n",
              "    .dataframe tbody tr th:only-of-type {\n",
              "        vertical-align: middle;\n",
              "    }\n",
              "\n",
              "    .dataframe tbody tr th {\n",
              "        vertical-align: top;\n",
              "    }\n",
              "\n",
              "    .dataframe thead th {\n",
              "        text-align: right;\n",
              "    }\n",
              "</style>\n",
              "<table border=\"1\" class=\"dataframe\">\n",
              "  <thead>\n",
              "    <tr style=\"text-align: right;\">\n",
              "      <th></th>\n",
              "      <th>SigWaveHeight</th>\n",
              "      <th>Temp</th>\n",
              "      <th>Latitude</th>\n",
              "      <th>Longitude</th>\n",
              "    </tr>\n",
              "  </thead>\n",
              "  <tbody>\n",
              "    <tr>\n",
              "      <th>count</th>\n",
              "      <td>76026.000000</td>\n",
              "      <td>76026.000000</td>\n",
              "      <td>76026.000000</td>\n",
              "      <td>76026.000000</td>\n",
              "    </tr>\n",
              "    <tr>\n",
              "      <th>mean</th>\n",
              "      <td>173.357259</td>\n",
              "      <td>12.164791</td>\n",
              "      <td>53.315428</td>\n",
              "      <td>-9.912542</td>\n",
              "    </tr>\n",
              "    <tr>\n",
              "      <th>std</th>\n",
              "      <td>138.002325</td>\n",
              "      <td>2.843380</td>\n",
              "      <td>1.035175</td>\n",
              "      <td>0.349344</td>\n",
              "    </tr>\n",
              "    <tr>\n",
              "      <th>min</th>\n",
              "      <td>0.000000</td>\n",
              "      <td>4.510000</td>\n",
              "      <td>51.647000</td>\n",
              "      <td>-10.297370</td>\n",
              "    </tr>\n",
              "    <tr>\n",
              "      <th>25%</th>\n",
              "      <td>67.000000</td>\n",
              "      <td>9.650000</td>\n",
              "      <td>52.282333</td>\n",
              "      <td>-10.150990</td>\n",
              "    </tr>\n",
              "    <tr>\n",
              "      <th>50%</th>\n",
              "      <td>136.000000</td>\n",
              "      <td>11.940000</td>\n",
              "      <td>53.801353</td>\n",
              "      <td>-10.094833</td>\n",
              "    </tr>\n",
              "    <tr>\n",
              "      <th>75%</th>\n",
              "      <td>241.000000</td>\n",
              "      <td>14.350000</td>\n",
              "      <td>54.225100</td>\n",
              "      <td>-9.681000</td>\n",
              "    </tr>\n",
              "    <tr>\n",
              "      <th>max</th>\n",
              "      <td>670.000000</td>\n",
              "      <td>22.180000</td>\n",
              "      <td>54.275300</td>\n",
              "      <td>-9.262278</td>\n",
              "    </tr>\n",
              "  </tbody>\n",
              "</table>\n",
              "</div>\n",
              "      <button class=\"colab-df-convert\" onclick=\"convertToInteractive('df-06927f37-0593-4da0-b9d5-cc5f0b351e63')\"\n",
              "              title=\"Convert this dataframe to an interactive table.\"\n",
              "              style=\"display:none;\">\n",
              "        \n",
              "  <svg xmlns=\"http://www.w3.org/2000/svg\" height=\"24px\"viewBox=\"0 0 24 24\"\n",
              "       width=\"24px\">\n",
              "    <path d=\"M0 0h24v24H0V0z\" fill=\"none\"/>\n",
              "    <path d=\"M18.56 5.44l.94 2.06.94-2.06 2.06-.94-2.06-.94-.94-2.06-.94 2.06-2.06.94zm-11 1L8.5 8.5l.94-2.06 2.06-.94-2.06-.94L8.5 2.5l-.94 2.06-2.06.94zm10 10l.94 2.06.94-2.06 2.06-.94-2.06-.94-.94-2.06-.94 2.06-2.06.94z\"/><path d=\"M17.41 7.96l-1.37-1.37c-.4-.4-.92-.59-1.43-.59-.52 0-1.04.2-1.43.59L10.3 9.45l-7.72 7.72c-.78.78-.78 2.05 0 2.83L4 21.41c.39.39.9.59 1.41.59.51 0 1.02-.2 1.41-.59l7.78-7.78 2.81-2.81c.8-.78.8-2.07 0-2.86zM5.41 20L4 18.59l7.72-7.72 1.47 1.35L5.41 20z\"/>\n",
              "  </svg>\n",
              "      </button>\n",
              "      \n",
              "  <style>\n",
              "    .colab-df-container {\n",
              "      display:flex;\n",
              "      flex-wrap:wrap;\n",
              "      gap: 12px;\n",
              "    }\n",
              "\n",
              "    .colab-df-convert {\n",
              "      background-color: #E8F0FE;\n",
              "      border: none;\n",
              "      border-radius: 50%;\n",
              "      cursor: pointer;\n",
              "      display: none;\n",
              "      fill: #1967D2;\n",
              "      height: 32px;\n",
              "      padding: 0 0 0 0;\n",
              "      width: 32px;\n",
              "    }\n",
              "\n",
              "    .colab-df-convert:hover {\n",
              "      background-color: #E2EBFA;\n",
              "      box-shadow: 0px 1px 2px rgba(60, 64, 67, 0.3), 0px 1px 3px 1px rgba(60, 64, 67, 0.15);\n",
              "      fill: #174EA6;\n",
              "    }\n",
              "\n",
              "    [theme=dark] .colab-df-convert {\n",
              "      background-color: #3B4455;\n",
              "      fill: #D2E3FC;\n",
              "    }\n",
              "\n",
              "    [theme=dark] .colab-df-convert:hover {\n",
              "      background-color: #434B5C;\n",
              "      box-shadow: 0px 1px 3px 1px rgba(0, 0, 0, 0.15);\n",
              "      filter: drop-shadow(0px 1px 2px rgba(0, 0, 0, 0.3));\n",
              "      fill: #FFFFFF;\n",
              "    }\n",
              "  </style>\n",
              "\n",
              "      <script>\n",
              "        const buttonEl =\n",
              "          document.querySelector('#df-06927f37-0593-4da0-b9d5-cc5f0b351e63 button.colab-df-convert');\n",
              "        buttonEl.style.display =\n",
              "          google.colab.kernel.accessAllowed ? 'block' : 'none';\n",
              "\n",
              "        async function convertToInteractive(key) {\n",
              "          const element = document.querySelector('#df-06927f37-0593-4da0-b9d5-cc5f0b351e63');\n",
              "          const dataTable =\n",
              "            await google.colab.kernel.invokeFunction('convertToInteractive',\n",
              "                                                     [key], {});\n",
              "          if (!dataTable) return;\n",
              "\n",
              "          const docLinkHtml = 'Like what you see? Visit the ' +\n",
              "            '<a target=\"_blank\" href=https://colab.research.google.com/notebooks/data_table.ipynb>data table notebook</a>'\n",
              "            + ' to learn more about interactive tables.';\n",
              "          element.innerHTML = '';\n",
              "          dataTable['output_type'] = 'display_data';\n",
              "          await google.colab.output.renderOutput(dataTable, element);\n",
              "          const docLink = document.createElement('div');\n",
              "          docLink.innerHTML = docLinkHtml;\n",
              "          element.appendChild(docLink);\n",
              "        }\n",
              "      </script>\n",
              "    </div>\n",
              "  </div>\n",
              "  "
            ]
          },
          "metadata": {},
          "execution_count": 229
        }
      ]
    },
    {
      "cell_type": "markdown",
      "source": [
        "Let's see the 3D plot without the outliers:"
      ],
      "metadata": {
        "id": "31x50IWnetdK"
      }
    },
    {
      "cell_type": "code",
      "source": [
        "fig = plt.figure(figsize=(20,10))\n",
        "temp_labels = out_wave_length['Temp']\n",
        "\n",
        "ax = fig.add_subplot(111, projection='3d')\n",
        "#ax.scatter(xs = wave_length['Longitude'], ys = wave_length['Latitude'], zs = wave_length['SigWaveHeight'], c=temp_labels)\n",
        "ax.set_title(\"Significant Wave Height for each Buoy location and the Sea Temperature distribution\")\n",
        "ax.set_xlabel(\"Longitude\")\n",
        "ax.set_ylabel(\"Latitude\")\n",
        "ax.set_zlabel(\"Significant Wave Height\")\n",
        "scat_plot = ax.scatter(xs = out_wave_length['Longitude'], ys = out_wave_length['Latitude'], zs = out_wave_length['SigWaveHeight'], c=temp_labels)\n",
        "cb = plt.colorbar(scat_plot)\n",
        "\n",
        "plt.show()"
      ],
      "metadata": {
        "colab": {
          "base_uri": "https://localhost:8080/",
          "height": 575
        },
        "id": "nvD3QMIHYpNx",
        "outputId": "288e9b57-1fb0-4ec5-e242-1cd296a63e58"
      },
      "execution_count": 240,
      "outputs": [
        {
          "output_type": "display_data",
          "data": {
            "text/plain": [
              "<Figure size 1440x720 with 2 Axes>"
            ],
            "image/png": "[encoded data removed]"
          },
          "metadata": {
            "needs_background": "light"
          }
        }
      ]
    },
    {
      "cell_type": "markdown",
      "source": [
        "We can notice an interesting pattern in the graph. We can observe that the Wave Height increases as the longitude gets closer to -10.2 from -9.4 and the latitude gets closer to 54. It suggests that higher waves are expected to occur in these buoys.\n",
        "\n"
      ],
      "metadata": {
        "id": "t1UPaQSFfeSw"
      }
    },
    {
      "cell_type": "markdown",
      "source": [
        "We can relate the latitude and longitude with the Buoy Location, as we can see in the table:"
      ],
      "metadata": {
        "id": "b-_tlt4e2eqS"
      }
    },
    {
      "cell_type": "code",
      "source": [
        "min_sea_temperature[['station_id','latitude','longitude']]"
      ],
      "metadata": {
        "colab": {
          "base_uri": "https://localhost:8080/",
          "height": 237
        },
        "id": "NKRmvz7x2JQb",
        "outputId": "dae771b8-3ad9-422c-b326-e31982e9aa68"
      },
      "execution_count": 63,
      "outputs": [
        {
          "output_type": "execute_result",
          "data": {
            "text/plain": [
              "                     station_id   latitude   longitude\n",
              "88405   AMETS Berth A Wave Buoy    54.2753   -10.29737\n",
              "241983  AMETS Berth B Wave Buoy    54.2251   -10.15099\n",
              "145608               Bantry Bay     51.647      -9.681\n",
              "233245              Brandon Bay  52.282333  -10.094833\n",
              "5073                   Clew Bay  53.801353   -9.911498\n",
              "44570        SmartBay Wave Buoy  53.228333   -9.262278"
            ],
            "text/html": [
              "\n",
              "  <div id=\"df-18de62f0-4662-46e8-9115-f5a75a0ef4bd\">\n",
              "    <div class=\"colab-df-container\">\n",
              "      <div>\n",
              "<style scoped>\n",
              "    .dataframe tbody tr th:only-of-type {\n",
              "        vertical-align: middle;\n",
              "    }\n",
              "\n",
              "    .dataframe tbody tr th {\n",
              "        vertical-align: top;\n",
              "    }\n",
              "\n",
              "    .dataframe thead th {\n",
              "        text-align: right;\n",
              "    }\n",
              "</style>\n",
              "<table border=\"1\" class=\"dataframe\">\n",
              "  <thead>\n",
              "    <tr style=\"text-align: right;\">\n",
              "      <th></th>\n",
              "      <th>station_id</th>\n",
              "      <th>latitude</th>\n",
              "      <th>longitude</th>\n",
              "    </tr>\n",
              "  </thead>\n",
              "  <tbody>\n",
              "    <tr>\n",
              "      <th>88405</th>\n",
              "      <td>AMETS Berth A Wave Buoy</td>\n",
              "      <td>54.2753</td>\n",
              "      <td>-10.29737</td>\n",
              "    </tr>\n",
              "    <tr>\n",
              "      <th>241983</th>\n",
              "      <td>AMETS Berth B Wave Buoy</td>\n",
              "      <td>54.2251</td>\n",
              "      <td>-10.15099</td>\n",
              "    </tr>\n",
              "    <tr>\n",
              "      <th>145608</th>\n",
              "      <td>Bantry Bay</td>\n",
              "      <td>51.647</td>\n",
              "      <td>-9.681</td>\n",
              "    </tr>\n",
              "    <tr>\n",
              "      <th>233245</th>\n",
              "      <td>Brandon Bay</td>\n",
              "      <td>52.282333</td>\n",
              "      <td>-10.094833</td>\n",
              "    </tr>\n",
              "    <tr>\n",
              "      <th>5073</th>\n",
              "      <td>Clew Bay</td>\n",
              "      <td>53.801353</td>\n",
              "      <td>-9.911498</td>\n",
              "    </tr>\n",
              "    <tr>\n",
              "      <th>44570</th>\n",
              "      <td>SmartBay Wave Buoy</td>\n",
              "      <td>53.228333</td>\n",
              "      <td>-9.262278</td>\n",
              "    </tr>\n",
              "  </tbody>\n",
              "</table>\n",
              "</div>\n",
              "      <button class=\"colab-df-convert\" onclick=\"convertToInteractive('df-18de62f0-4662-46e8-9115-f5a75a0ef4bd')\"\n",
              "              title=\"Convert this dataframe to an interactive table.\"\n",
              "              style=\"display:none;\">\n",
              "        \n",
              "  <svg xmlns=\"http://www.w3.org/2000/svg\" height=\"24px\"viewBox=\"0 0 24 24\"\n",
              "       width=\"24px\">\n",
              "    <path d=\"M0 0h24v24H0V0z\" fill=\"none\"/>\n",
              "    <path d=\"M18.56 5.44l.94 2.06.94-2.06 2.06-.94-2.06-.94-.94-2.06-.94 2.06-2.06.94zm-11 1L8.5 8.5l.94-2.06 2.06-.94-2.06-.94L8.5 2.5l-.94 2.06-2.06.94zm10 10l.94 2.06.94-2.06 2.06-.94-2.06-.94-.94-2.06-.94 2.06-2.06.94z\"/><path d=\"M17.41 7.96l-1.37-1.37c-.4-.4-.92-.59-1.43-.59-.52 0-1.04.2-1.43.59L10.3 9.45l-7.72 7.72c-.78.78-.78 2.05 0 2.83L4 21.41c.39.39.9.59 1.41.59.51 0 1.02-.2 1.41-.59l7.78-7.78 2.81-2.81c.8-.78.8-2.07 0-2.86zM5.41 20L4 18.59l7.72-7.72 1.47 1.35L5.41 20z\"/>\n",
              "  </svg>\n",
              "      </button>\n",
              "      \n",
              "  <style>\n",
              "    .colab-df-container {\n",
              "      display:flex;\n",
              "      flex-wrap:wrap;\n",
              "      gap: 12px;\n",
              "    }\n",
              "\n",
              "    .colab-df-convert {\n",
              "      background-color: #E8F0FE;\n",
              "      border: none;\n",
              "      border-radius: 50%;\n",
              "      cursor: pointer;\n",
              "      display: none;\n",
              "      fill: #1967D2;\n",
              "      height: 32px;\n",
              "      padding: 0 0 0 0;\n",
              "      width: 32px;\n",
              "    }\n",
              "\n",
              "    .colab-df-convert:hover {\n",
              "      background-color: #E2EBFA;\n",
              "      box-shadow: 0px 1px 2px rgba(60, 64, 67, 0.3), 0px 1px 3px 1px rgba(60, 64, 67, 0.15);\n",
              "      fill: #174EA6;\n",
              "    }\n",
              "\n",
              "    [theme=dark] .colab-df-convert {\n",
              "      background-color: #3B4455;\n",
              "      fill: #D2E3FC;\n",
              "    }\n",
              "\n",
              "    [theme=dark] .colab-df-convert:hover {\n",
              "      background-color: #434B5C;\n",
              "      box-shadow: 0px 1px 3px 1px rgba(0, 0, 0, 0.15);\n",
              "      filter: drop-shadow(0px 1px 2px rgba(0, 0, 0, 0.3));\n",
              "      fill: #FFFFFF;\n",
              "    }\n",
              "  </style>\n",
              "\n",
              "      <script>\n",
              "        const buttonEl =\n",
              "          document.querySelector('#df-18de62f0-4662-46e8-9115-f5a75a0ef4bd button.colab-df-convert');\n",
              "        buttonEl.style.display =\n",
              "          google.colab.kernel.accessAllowed ? 'block' : 'none';\n",
              "\n",
              "        async function convertToInteractive(key) {\n",
              "          const element = document.querySelector('#df-18de62f0-4662-46e8-9115-f5a75a0ef4bd');\n",
              "          const dataTable =\n",
              "            await google.colab.kernel.invokeFunction('convertToInteractive',\n",
              "                                                     [key], {});\n",
              "          if (!dataTable) return;\n",
              "\n",
              "          const docLinkHtml = 'Like what you see? Visit the ' +\n",
              "            '<a target=\"_blank\" href=https://colab.research.google.com/notebooks/data_table.ipynb>data table notebook</a>'\n",
              "            + ' to learn more about interactive tables.';\n",
              "          element.innerHTML = '';\n",
              "          dataTable['output_type'] = 'display_data';\n",
              "          await google.colab.output.renderOutput(dataTable, element);\n",
              "          const docLink = document.createElement('div');\n",
              "          docLink.innerHTML = docLinkHtml;\n",
              "          element.appendChild(docLink);\n",
              "        }\n",
              "      </script>\n",
              "    </div>\n",
              "  </div>\n",
              "  "
            ]
          },
          "metadata": {},
          "execution_count": 63
        }
      ]
    },
    {
      "cell_type": "markdown",
      "source": [
        "We can also observe that the sea temperature distribution is similar for AMETS Berth A Wave and AMETS Berth B Wave Buoys and both comprises Significant Wave Heights higher values. \n",
        "\n",
        "Brandon Bay Sea Temperature has waves that has low variation in temperature, which is around 12°C degree during the year.\n",
        "\n",
        "The Bantry Bay, Clew Bay and SmartBay has similar distribution of wave lenghts and sea temperature. "
      ],
      "metadata": {
        "id": "R4RXlLN_Ugeo"
      }
    },
    {
      "cell_type": "markdown",
      "source": [
        "Linear regression and multiple regression assumes that the probability distribution of each variable is well behaved, such as a Gaussian distribution. We observed that our data do not follow a normal distribution, so we might not find a good fit using it. \n",
        "So, since most biological phenomena are nonlinear in nature, we might be able to predict the wave length using a polynomial regression model."
      ],
      "metadata": {
        "id": "9iecrgeVNXwq"
      }
    },
    {
      "cell_type": "markdown",
      "source": [
        "First let's build our X and y variables from the data previously prepared."
      ],
      "metadata": {
        "id": "nwNM4j6Rk4LL"
      }
    },
    {
      "cell_type": "code",
      "source": [
        "from sklearn.linear_model import LinearRegression\n",
        "\n",
        "X = out_wave_length[['Latitude','Longitude','Temp']]\n",
        "y = out_wave_length[['SigWaveHeight']]"
      ],
      "metadata": {
        "id": "SqCTPZX0Dg1R"
      },
      "execution_count": 242,
      "outputs": []
    },
    {
      "cell_type": "markdown",
      "source": [
        "Let's split our data in train (70%) and test (30%) and set a seed to guarantee that the split is always the same."
      ],
      "metadata": {
        "id": "1m0MvryKl5LP"
      }
    },
    {
      "cell_type": "code",
      "source": [
        "X_train, X_test, y_train, y_test = train_test_split(poly_features, y, test_size=0.3, random_state=42)"
      ],
      "metadata": {
        "id": "xZQrO9YVl4lf"
      },
      "execution_count": 243,
      "outputs": []
    },
    {
      "cell_type": "markdown",
      "source": [
        "We create the new polynomial features and apply to our data (X)."
      ],
      "metadata": {
        "id": "UTxglegqnFE-"
      }
    },
    {
      "cell_type": "code",
      "source": [
        "poly = PolynomialFeatures(degree=4, include_bias=False)\n",
        "poly_features = poly.fit_transform(X)\n"
      ],
      "metadata": {
        "id": "X7ZHjjiPMuoQ"
      },
      "execution_count": 244,
      "outputs": []
    },
    {
      "cell_type": "markdown",
      "source": [
        "Now let’s create and fit our model, we’ll train our model only on the training data:"
      ],
      "metadata": {
        "id": "A8OxUUE6m4a8"
      }
    },
    {
      "cell_type": "code",
      "source": [
        "poly_reg_model = LinearRegression()\n",
        "poly_reg_model.fit(X_train, y_train)"
      ],
      "metadata": {
        "colab": {
          "base_uri": "https://localhost:8080/"
        },
        "id": "8JFbdXfrFxRP",
        "outputId": "1cd25f87-3470-4fbc-da22-574986df6786"
      },
      "execution_count": 220,
      "outputs": [
        {
          "output_type": "execute_result",
          "data": {
            "text/plain": [
              "LinearRegression()"
            ]
          },
          "metadata": {},
          "execution_count": 220
        }
      ]
    },
    {
      "cell_type": "markdown",
      "source": [
        "The reason for us training our model only on the training data is that later we want to see how well our model will predict responses based on feature values it hasn’t seen before."
      ],
      "metadata": {
        "id": "JnFTZ1Q7nWMX"
      }
    },
    {
      "cell_type": "markdown",
      "source": [
        "Let's see the prediction for our test set and the results:"
      ],
      "metadata": {
        "id": "PDHD3DnKnwnq"
      }
    },
    {
      "cell_type": "code",
      "source": [
        "poly_reg_y_predicted = poly_reg_model.predict(X_test)\n",
        "rmse_test = np.sqrt(mean_squared_error(y_test, poly_reg_y_predicted))\n",
        "r2_test = r2_score(y_test, poly_reg_y_predicted)"
      ],
      "metadata": {
        "id": "kGESvMOxFzoR"
      },
      "execution_count": 221,
      "outputs": []
    },
    {
      "cell_type": "code",
      "source": [
        "  print(\"The model performance for the test set\")\n",
        "  print(\"-------------------------------------------\")\n",
        "  print(\"RMSE of test set is {}\".format(rmse_test))\n",
        "  print(\"R2 score of test set is {}\".format(r2_test))"
      ],
      "metadata": {
        "colab": {
          "base_uri": "https://localhost:8080/"
        },
        "id": "Jop5TXOfNp9U",
        "outputId": "4a561d92-f84c-4f95-ec1f-8266c61645d7"
      },
      "execution_count": 223,
      "outputs": [
        {
          "output_type": "stream",
          "name": "stdout",
          "text": [
            "The model performance for the test set\n",
            "-------------------------------------------\n",
            "RMSE of test set is 93.06678833474446\n",
            "R2 score of test set is 0.5412572318960638\n"
          ]
        }
      ]
    },
    {
      "cell_type": "markdown",
      "source": [
        "We take the square root of mean_squared_error to get the RMSE (root mean square error) which is a commonly used metric to evaluate a machine learning model’s performance. RMSE shows how far the values your model predicts (poly_reg_y_predicted) are from the true values (y_test), on average. Roughly speaking: the smaller the RMSE, the better the model."
      ],
      "metadata": {
        "id": "ElTHNgBQGAsN"
      }
    },
    {
      "cell_type": "markdown",
      "source": [
        "It is important to know how well the relationship between the values of the x-and y-axis is, if there are no relationship the polynomial regression can not be used to predict anything.\n",
        "\n",
        "The relationship is measured with a value called the r-squared.\n",
        "\n",
        "The r-squared value ranges from 0 to 1, where 0 means no relationship, and 1 means 100% related. The 0.54 indicates not a good fitting and 46% of the variability in the outcome data cannot be explained by the model.\n",
        "\n",
        "Further analysis is worth of attention to elucidate more insigths. Thank you for your attention. Cheers! "
      ],
      "metadata": {
        "id": "6NYLo1gMpGUT"
      }
    }
  ]
}